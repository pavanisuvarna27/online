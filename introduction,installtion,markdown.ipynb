{
 "cells": [
  {
   "cell_type": "markdown",
   "metadata": {},
   "source": [
    "### day objectives\n",
    "   * installation\n",
    "   * python introduction\n",
    "   * jupyter notebook\n",
    "   * markdown format"
   ]
  },
  {
   "cell_type": "markdown",
   "metadata": {},
   "source": [
    "### installation\n",
    "- https://docs.anaconda.com/anaconda/install/\n",
    "- https://docs.anaconda.com/anaconda/install/windows/\n",
    "- https://docs.anaconda.com/anaconda/install/linux/\n",
    "- https://docs.anaconda.com/anaconda/install/mac-os/"
   ]
  },
  {
   "cell_type": "code",
   "execution_count": null,
   "metadata": {},
   "outputs": [],
   "source": []
  },
  {
   "cell_type": "markdown",
   "metadata": {},
   "source": [
    "### Python Introduction"
   ]
  },
  {
   "cell_type": "markdown",
   "metadata": {},
   "source": [
    "### What is python?\n",
    "- Python is a simple,general purpose,interpreted scripting language,high level,\n",
    "  object-oriented programming language.\n",
    "- Python is developed by Guido van Rossum.\n",
    "- Guido van Rossum started implementing Python in 1989,and released in 1991."
   ]
  },
  {
   "cell_type": "markdown",
   "metadata": {},
   "source": [
    "### why python named as python?\n",
    "-  the name came from BBC’s comedy television show – ‘Monty Python’s Flying Circus’(from the 1970s),\n",
    "   as he was a big fan of the TV show and also he wanted a short, unique and\n",
    "   slightly mysterious name for his invention and hence he named it Python! "
   ]
  },
  {
   "cell_type": "markdown",
   "metadata": {},
   "source": [
    "## Python Features\n",
    "\n",
    "- #### 1) Easy to Learn and Use\n",
    "    - Python is easy syntax to learn and use. It is developer-friendly and high level programming language.\n",
    "- #### 2) Expressive Language\n",
    "    - Python language is more expressive means that it is more understandable and readable\n",
    "- #### 3) Interpreted Language\n",
    "    - Python is an interpreted language i.e. interpreter executes the code line by line at a time. \n",
    "    - This makes debugging easy and thus suitable for beginners.\n",
    "- #### 4) Cross-platform Language\n",
    "  - Python can run equally on different platforms such as Windows, Linux, Unix and Macintosh etc. \n",
    "  - So, we can say that Python is a portable language.\n",
    "- #### 5) Free and Open Source:\n",
    "    - Python is free to download and use.this means that source code is also available to the public.\n",
    "    So you can download it as, use it as well as share it.\n",
    "- #### 6)object oriented:\n",
    "  - Python supports object oriented language and concepts of classes and objects come into existence.\n",
    "- #### 7) Extensible\n",
    "  - It implies that other languages such as C/C++ can be used to compile the code and thus it can \n",
    "    be used further in our python code.\n",
    "- #### 8) Large Standard Library\n",
    "  - Python has a large and broad library and provides rich set of module and functions for \n",
    "    rapid application development.\n",
    "- #### 9) GUI Programming Support\n",
    "  - Graphical user interfaces can be developed using Python.such as PyQt5, PyQt4, wxPython in python.\n",
    "    PyQt5 is the most popular option for creating graphical apps with Python.\n",
    "- #### 10) Integrated\n",
    "  - It can be easily integrated with languages like C, C++, JAVA etc."
   ]
  },
  {
   "cell_type": "code",
   "execution_count": null,
   "metadata": {},
   "outputs": [],
   "source": [
    "#Applications of python?\n",
    "1. web applications (Google,YouTube, Instagram,Drop Box...etc)\n",
    "2. Game Development\n",
    "3. GUI based Applications\n",
    "4. Data Science\n",
    "5. Scientific Computing\n",
    "6. Multimedia\n",
    "7. Machine Learning"
   ]
  },
  {
   "cell_type": "code",
   "execution_count": null,
   "metadata": {},
   "outputs": [],
   "source": []
  },
  {
   "cell_type": "markdown",
   "metadata": {},
   "source": [
    "## Python Version List:\n",
    "- Python 1.0 January 1994\n",
    "- Python 1.5 December 31, 1997\n",
    "- Python 1.6 September 5, 2000\n",
    "- Python 2.0 October 16, 2000\n",
    "- Python 2.1 April 17, 2001\n",
    "- Python 2.2 December 21, 2001\n",
    "- Python 2.3 July 29, 2003\n",
    "- Python 2.4 November 30, 2004\n",
    "- Python 2.5 September 19, 2006\n",
    "- Python 2.6 October 1, 2008\n",
    "- Python 2.7 July 3, 2010\n",
    "- Python 3.0 December 3, 2008\n",
    "- Python 3.1 June 27, 2009\n",
    "- Python 3.2 February 20, 2011\n",
    "- Python 3.3 September 29, 2012\n",
    "- Python 3.4 March 16, 2014\n",
    "- Python 3.5 September 13, 2015\n",
    "- Python 3.6 December 23, 2016\n",
    "- Python 3.7 June 27, 2018\n",
    "- Python 3.8.3  May 13, 2020"
   ]
  },
  {
   "cell_type": "code",
   "execution_count": null,
   "metadata": {},
   "outputs": [],
   "source": []
  },
  {
   "cell_type": "markdown",
   "metadata": {},
   "source": [
    "## Python Applications:\n",
    "### Python it applicable in almost each domain of software development.\n",
    "- #### 1) Web Applications\n",
    "    - We can use Python to develop web applications.\n",
    "    - It provides libraries to handle internet protocols such as HTML and XML,JSON,Emailprocessing.\n",
    "- #### 2) Desktop GUI Applications\n",
    "    - Python provides Tk GUI library to develop user interface in python based application. \n",
    "- #### 3) Software Development\n",
    "    - Python is helpful for software development process.\n",
    "    - It works as a support language and can be used for build control and management, testing etc.\n",
    "- #### 4) Scientific and Numeric\n",
    "    - Python is popular and widely used in scientific and numeric computing. \n",
    "    - Some useful library and package are SciPy, Pandas, IPython etc.\n",
    "- #### 5) Business Applications\n",
    "    - Python is used to build Bussiness applications like ERP and e-commerce systems. \n",
    "- #### 6) Console Based Application\n",
    "    - We can use Python to develop console based applications.\n",
    "- #### 7) Audio or Video based Applications\n",
    "    - Python is awesome to perform multiple tasks and can be used to develop multimedia applications\n",
    "- #### 8) 3D CAD Applications\n",
    "    - To create CAD application Fandango is a real application which provides full features of CAD.\n",
    "- #### 9) Enterprise Applications\n",
    " - Python can be used to create applications which can be used within an Organization.\n",
    "- #### 10) Applications for Images\n",
    "    - Using Python several application can be developed for image. (opencv,pillow...etc)"
   ]
  },
  {
   "cell_type": "code",
   "execution_count": null,
   "metadata": {},
   "outputs": [],
   "source": []
  },
  {
   "cell_type": "markdown",
   "metadata": {},
   "source": [
    "### install python:\n",
    "    - python 3.7.4(windows 10)\n",
    "    - python 3.4.3(windows 7)\n",
    "- #### python provides us the two ways to run a program:\n",
    "\n",
    "  - Using Interactive interpreter prompt(shell)\n",
    "  - Using a script file"
   ]
  },
  {
   "cell_type": "code",
   "execution_count": null,
   "metadata": {},
   "outputs": [],
   "source": []
  },
  {
   "cell_type": "code",
   "execution_count": null,
   "metadata": {},
   "outputs": [],
   "source": [
    "# jupyter notebook"
   ]
  },
  {
   "cell_type": "markdown",
   "metadata": {},
   "source": [
    "# Markdown"
   ]
  },
  {
   "cell_type": "markdown",
   "metadata": {},
   "source": [
    "# python\n",
    "## python\n",
    "### python\n",
    "#### python\n",
    "##### python\n",
    "###### python"
   ]
  },
  {
   "cell_type": "markdown",
   "metadata": {},
   "source": [
    "* **Bold**"
   ]
  },
  {
   "cell_type": "markdown",
   "metadata": {},
   "source": [
    "* *itallic*"
   ]
  },
  {
   "cell_type": "markdown",
   "metadata": {},
   "source": [
    "* Normal text\n",
    "     * sublist1\n",
    "     * sublist2"
   ]
  },
  {
   "cell_type": "markdown",
   "metadata": {},
   "source": [
    "1. ordered list element 1\n",
    "2. ordered list element 2"
   ]
  },
  {
   "cell_type": "markdown",
   "metadata": {},
   "source": [
    "[Jupter Logo](Jupyterlogo.png)"
   ]
  },
  {
   "cell_type": "markdown",
   "metadata": {},
   "source": []
  },
  {
   "cell_type": "code",
   "execution_count": null,
   "metadata": {},
   "outputs": [],
   "source": []
  },
  {
   "cell_type": "markdown",
   "metadata": {},
   "source": [
    "### python comments:\n",
    "##### Comment is not a part of the program, but it enhances the interactivity of the program and makes the program readable.\n",
    "##### Python supports two types of comments:\n",
    "- 1) Single Line Comment:\n",
    "  - In case user wants to specify a single line comment, then comment must start with #\n",
    "- 2) Multi Line Comment:\n",
    "  - Multi lined comment can be given inside triple quotes."
   ]
  },
  {
   "cell_type": "code",
   "execution_count": 5,
   "metadata": {},
   "outputs": [
    {
     "name": "stdout",
     "output_type": "stream",
     "text": [
      "hello\n"
     ]
    }
   ],
   "source": [
    "#single line comment\n",
    "\"\"\"\n",
    "multi\n",
    "line\n",
    "comments\n",
    "\"\"\"\n",
    "print(\"hello\")"
   ]
  },
  {
   "cell_type": "code",
   "execution_count": 49,
   "metadata": {},
   "outputs": [
    {
     "name": "stdout",
     "output_type": "stream",
     "text": [
      "python's workshop\n"
     ]
    }
   ],
   "source": [
    "print(\"python's workshop\")# in python single quotes and double treated as same"
   ]
  },
  {
   "cell_type": "code",
   "execution_count": null,
   "metadata": {},
   "outputs": [],
   "source": []
  },
  {
   "cell_type": "markdown",
   "metadata": {},
   "source": [
    "#### Python Basics\n",
    "1. Variables\n",
    "2. Operators\n",
    "3. Keywords"
   ]
  },
  {
   "cell_type": "code",
   "execution_count": null,
   "metadata": {},
   "outputs": [],
   "source": []
  }
 ],
 "metadata": {
  "kernelspec": {
   "display_name": "Python 3",
   "language": "python",
   "name": "python3"
  },
  "language_info": {
   "codemirror_mode": {
    "name": "ipython",
    "version": 3
   },
   "file_extension": ".py",
   "mimetype": "text/x-python",
   "name": "python",
   "nbconvert_exporter": "python",
   "pygments_lexer": "ipython3",
   "version": "3.7.3"
  }
 },
 "nbformat": 4,
 "nbformat_minor": 2
}
