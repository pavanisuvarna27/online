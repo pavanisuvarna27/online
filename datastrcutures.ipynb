{
 "cells": [
  {
   "cell_type": "code",
   "execution_count": null,
   "metadata": {},
   "outputs": [],
   "source": [
    "# data structures:\n",
    "- Data structures are a way of organizing and storing data.\n",
    "- so that they can be accessed and worked with efficiently. "
   ]
  },
  {
   "cell_type": "code",
   "execution_count": null,
   "metadata": {},
   "outputs": [],
   "source": [
    "#we have 4 types of datastructures in python:\n",
    "1.list\n",
    "2.tuple\n",
    "3.dictionary\n",
    "4.sets"
   ]
  },
  {
   "cell_type": "code",
   "execution_count": null,
   "metadata": {},
   "outputs": [],
   "source": [
    "# list\n",
    "- A list is a data structure that holds an ordered collection of items.\n",
    "- List is a collection which is ordered and changeable. Allows duplicate members.\n",
    "- you can store a sequence of items in a list.\n",
    "- Lists in Python are used to store collection of heterogeneous items.\n",
    "- These are mutable, which means that you can change their content without changing their identity.\n",
    "- You can recognize lists by their square brackets [ and ] that hold elements, separated by a comma ,.\n",
    "- It is similar to array with the exception that the data elements can be of different data types.\n",
    "- You can have both numeric and string data in a python list."
   ]
  },
  {
   "cell_type": "code",
   "execution_count": 4,
   "metadata": {
    "scrolled": true
   },
   "outputs": [
    {
     "name": "stdout",
     "output_type": "stream",
     "text": [
      "[]\n",
      "<class 'list'>\n"
     ]
    }
   ],
   "source": [
    "#empty list\n",
    "li=[]\n",
    "print(li)\n",
    "print(type(li))"
   ]
  },
  {
   "cell_type": "code",
   "execution_count": null,
   "metadata": {},
   "outputs": [],
   "source": [
    "# Creating Lists:"
   ]
  },
  {
   "cell_type": "code",
   "execution_count": 3,
   "metadata": {},
   "outputs": [
    {
     "name": "stdout",
     "output_type": "stream",
     "text": [
      "[12, 1, 89, 90, 34, 27, 1, 100]\n"
     ]
    }
   ],
   "source": [
    "# integerlist(unsorted)\n",
    "li=[12,1,89,90,34,27,1,100]\n",
    "print(li)"
   ]
  },
  {
   "cell_type": "code",
   "execution_count": 2,
   "metadata": {},
   "outputs": [
    {
     "name": "stdout",
     "output_type": "stream",
     "text": [
      "[12, 67.89, 'python']\n"
     ]
    }
   ],
   "source": [
    "# multilist\n",
    "li=[12,67.89,'python']\n",
    "print(li)"
   ]
  },
  {
   "cell_type": "code",
   "execution_count": 5,
   "metadata": {},
   "outputs": [
    {
     "name": "stdout",
     "output_type": "stream",
     "text": [
      "[24, 12, 34, 56, 1, 24, 12, 90]\n"
     ]
    }
   ],
   "source": [
    "#duplicate list\n",
    "li=[24,12,34,56,1,24,12,90]\n",
    "print(li)"
   ]
  },
  {
   "cell_type": "code",
   "execution_count": 6,
   "metadata": {},
   "outputs": [
    {
     "name": "stdout",
     "output_type": "stream",
     "text": [
      "type: <class 'list'>\n",
      "length: 8\n",
      "sum: 253\n",
      "min: 1\n",
      "max: 90\n",
      "sorted list: [1, 12, 12, 24, 24, 34, 56, 90]\n"
     ]
    }
   ],
   "source": [
    "# some builtin functions:\n",
    "print(\"type:\",type(li))\n",
    "print(\"length:\",len(li))\n",
    "print(\"sum:\",sum(li))\n",
    "print(\"min:\",min(li))\n",
    "print(\"max:\",max(li))\n",
    "print(\"sorted list:\",sorted(li))"
   ]
  },
  {
   "cell_type": "code",
   "execution_count": 78,
   "metadata": {},
   "outputs": [
    {
     "name": "stdout",
     "output_type": "stream",
     "text": [
      "type: <class 'list'>\n",
      "length: 6\n",
      "min: h\n",
      "max: y\n",
      "sorted list: ['h', 'n', 'o', 'p', 't', 'y']\n"
     ]
    }
   ],
   "source": [
    "s=[\"p\",\"y\",\"t\",\"h\",\"o\",\"n\"]\n",
    "print(\"type:\",type(s))\n",
    "print(\"length:\",len(s))\n",
    "print(\"min:\",min(s))\n",
    "print(\"max:\",max(s))\n",
    "print(\"sorted list:\",sorted(s))"
   ]
  },
  {
   "cell_type": "code",
   "execution_count": 24,
   "metadata": {},
   "outputs": [
    {
     "name": "stdout",
     "output_type": "stream",
     "text": [
      "True\n",
      "True\n",
      "False\n",
      "True\n",
      "[(0, 'pavani'), (1, 'ambika'), (2, 'poojitha')]\n",
      "[]\n",
      "[('pavani', 10), ('ambika', 20), ('poojitha', 50)]\n"
     ]
    }
   ],
   "source": [
    "#all,any,enumerate,zip\n",
    "number=[]\n",
    "name=['pavani','ambika','poojitha']\n",
    "rollno=[10,20,50,80,90]\n",
    "print(all(number))\n",
    "print(all(name))\n",
    "print(any(number))\n",
    "print(any(name))\n",
    "print(list(enumerate(name)))\n",
    "print(list(enumerate(number)))\n",
    "print(list(zip(name,rollno)))"
   ]
  },
  {
   "cell_type": "code",
   "execution_count": 38,
   "metadata": {},
   "outputs": [
    {
     "name": "stdout",
     "output_type": "stream",
     "text": [
      "24\n",
      "12\n",
      "[56, 1, 24, 12]\n",
      "[12, 56, 24, 90]\n",
      "[90, 12, 24, 1, 56, 34, 12, 24]\n"
     ]
    }
   ],
   "source": [
    "#Accessing List elements:\n",
    "#indexing:\n",
    "li=[24, 12, 34, 56, 1, 24, 12, 90]\n",
    "print(li[0])\n",
    "#negtive indexing:\n",
    "print(li[-2])\n",
    "#slicing:\n",
    "print(li[3:7])\n",
    "print(li[1:9:2])\n",
    "print(li[::-1])"
   ]
  },
  {
   "cell_type": "code",
   "execution_count": 36,
   "metadata": {},
   "outputs": [
    {
     "name": "stdout",
     "output_type": "stream",
     "text": [
      "[1, 2, 3, 4, 5, 2, 3, 7, 9, 0, 8]\n"
     ]
    }
   ],
   "source": [
    "#concatenation:\n",
    "li1=[1,2,3,4,5]\n",
    "li2=[2,3,7,9,0,8]\n",
    "print(li1+li2)"
   ]
  },
  {
   "cell_type": "code",
   "execution_count": 79,
   "metadata": {},
   "outputs": [
    {
     "name": "stdout",
     "output_type": "stream",
     "text": [
      "['python', 'workshop']\n"
     ]
    }
   ],
   "source": [
    "s1=['python']\n",
    "s2=['workshop']\n",
    "print(s1+s2)"
   ]
  },
  {
   "cell_type": "code",
   "execution_count": 42,
   "metadata": {},
   "outputs": [
    {
     "name": "stdout",
     "output_type": "stream",
     "text": [
      "[23, 4, 51, [16, 89, 90, 23, 12], 11]\n",
      "51\n",
      "[16, 89, 90, 23, 12]\n",
      "90\n"
     ]
    }
   ],
   "source": [
    "li=[23,4,51,[16,89,90,23,12],11]\n",
    "print(li)\n",
    "print(li[2])\n",
    "print(li[3])\n",
    "print(li[3][2])"
   ]
  },
  {
   "cell_type": "code",
   "execution_count": 43,
   "metadata": {},
   "outputs": [
    {
     "name": "stdout",
     "output_type": "stream",
     "text": [
      "[23, 4, 51, [16, 89, 90, 23, 12], 30]\n"
     ]
    }
   ],
   "source": [
    "#list is mutable\n",
    "li[4]=30\n",
    "print(li)"
   ]
  },
  {
   "cell_type": "code",
   "execution_count": 45,
   "metadata": {
    "scrolled": true
   },
   "outputs": [
    {
     "name": "stdout",
     "output_type": "stream",
     "text": [
      "['__add__', '__class__', '__contains__', '__delattr__', '__delitem__', '__dir__', '__doc__', '__eq__', '__format__', '__ge__', '__getattribute__', '__getitem__', '__gt__', '__hash__', '__iadd__', '__imul__', '__init__', '__init_subclass__', '__iter__', '__le__', '__len__', '__lt__', '__mul__', '__ne__', '__new__', '__reduce__', '__reduce_ex__', '__repr__', '__reversed__', '__rmul__', '__setattr__', '__setitem__', '__sizeof__', '__str__', '__subclasshook__', 'append', 'clear', 'copy', 'count', 'extend', 'index', 'insert', 'pop', 'remove', 'reverse', 'sort'] "
     ]
    }
   ],
   "source": [
    "print(dir(list),end=\" \")"
   ]
  },
  {
   "cell_type": "code",
   "execution_count": 67,
   "metadata": {},
   "outputs": [
    {
     "name": "stdout",
     "output_type": "stream",
     "text": [
      "[23, 12, 7, 56, 4, 90]\n"
     ]
    }
   ],
   "source": [
    "l=[23,12,7,56,4]\n",
    "l.append(90) #based on value\n",
    "print(l)"
   ]
  },
  {
   "cell_type": "code",
   "execution_count": 68,
   "metadata": {},
   "outputs": [
    {
     "data": {
      "text/plain": [
       "[23, 12, 60, 7, 56, 4, 90]"
      ]
     },
     "execution_count": 68,
     "metadata": {},
     "output_type": "execute_result"
    }
   ],
   "source": [
    "l.insert(2,60) #based on index and value\n",
    "l"
   ]
  },
  {
   "cell_type": "code",
   "execution_count": 69,
   "metadata": {},
   "outputs": [
    {
     "name": "stdout",
     "output_type": "stream",
     "text": [
      "3\n",
      "0\n"
     ]
    }
   ],
   "source": [
    "l=[23,34,23,23,45]\n",
    "print(l.count(23))\n",
    "print(l.index(23))"
   ]
  },
  {
   "cell_type": "code",
   "execution_count": 70,
   "metadata": {},
   "outputs": [
    {
     "data": {
      "text/plain": [
       "[23, 12, 56, 4]"
      ]
     },
     "execution_count": 70,
     "metadata": {},
     "output_type": "execute_result"
    }
   ],
   "source": [
    "l=[23,12,7,56,4]\n",
    "l.remove(7) # based on value\n",
    "l"
   ]
  },
  {
   "cell_type": "code",
   "execution_count": 71,
   "metadata": {},
   "outputs": [
    {
     "data": {
      "text/plain": [
       "[23, 7, 56, 4]"
      ]
     },
     "execution_count": 71,
     "metadata": {},
     "output_type": "execute_result"
    }
   ],
   "source": [
    "l=[23,12,7,56,4]\n",
    "l.pop(1)   # based on indexvalue\n",
    "l"
   ]
  },
  {
   "cell_type": "code",
   "execution_count": 91,
   "metadata": {},
   "outputs": [
    {
     "data": {
      "text/plain": [
       "[4, 56, 7, 12, 23]"
      ]
     },
     "execution_count": 91,
     "metadata": {},
     "output_type": "execute_result"
    }
   ],
   "source": [
    "l=[23,12,7,56,4]\n",
    "l.reverse()\n",
    "l"
   ]
  },
  {
   "cell_type": "code",
   "execution_count": 93,
   "metadata": {},
   "outputs": [
    {
     "name": "stdout",
     "output_type": "stream",
     "text": [
      "original list: [56, 23, 12, 7, 4]\n",
      "sorted list: [4, 7, 12, 23, 56]\n",
      "reverse sorted list: [56, 23, 12, 7, 4]\n"
     ]
    }
   ],
   "source": [
    "#original list\n",
    "print(\"original list:\",l)\n",
    "l.sort()\n",
    "#increasing list\n",
    "print(\"sorted list:\",l)\n",
    "#decreasing list\n",
    "l.sort(reverse=True)\n",
    "print(\"reverse sorted list:\",l)"
   ]
  },
  {
   "cell_type": "code",
   "execution_count": 76,
   "metadata": {},
   "outputs": [
    {
     "name": "stdout",
     "output_type": "stream",
     "text": [
      "[23, 12, 7, 45, 77, 2]\n",
      "[45, 77, 2]\n"
     ]
    }
   ],
   "source": [
    "l=[23,12,7]\n",
    "l1=[45,77,2]\n",
    "l.extend(l1)\n",
    "print(l)\n",
    "print(l1)"
   ]
  },
  {
   "cell_type": "code",
   "execution_count": 77,
   "metadata": {},
   "outputs": [
    {
     "name": "stdout",
     "output_type": "stream",
     "text": [
      "[7, 34, 2, 56]\n",
      "[7, 34, 2, 56]\n"
     ]
    }
   ],
   "source": [
    "#assignment\n",
    "t=[7,34,2,56]\n",
    "t1=t\n",
    "print(t)\n",
    "print(t1)"
   ]
  },
  {
   "cell_type": "code",
   "execution_count": 78,
   "metadata": {},
   "outputs": [
    {
     "name": "stdout",
     "output_type": "stream",
     "text": [
      "[7, 34, 2, 56, 90]\n",
      "[7, 34, 2, 56, 90]\n"
     ]
    }
   ],
   "source": [
    "t.append(90)\n",
    "print(t)\n",
    "print(t1)"
   ]
  },
  {
   "cell_type": "code",
   "execution_count": 79,
   "metadata": {},
   "outputs": [
    {
     "name": "stdout",
     "output_type": "stream",
     "text": [
      "[7, 34, 2, 56]\n",
      "[7, 34, 2, 56]\n"
     ]
    }
   ],
   "source": [
    "#copy\n",
    "t=[7,34,2,56]\n",
    "t1=t.copy()\n",
    "print(t)\n",
    "print(t1)"
   ]
  },
  {
   "cell_type": "code",
   "execution_count": 80,
   "metadata": {},
   "outputs": [
    {
     "name": "stdout",
     "output_type": "stream",
     "text": [
      "[7, 34, 56]\n",
      "[7, 34, 2, 56]\n"
     ]
    }
   ],
   "source": [
    "t.remove(2)\n",
    "print(t)\n",
    "print(t1)"
   ]
  },
  {
   "cell_type": "code",
   "execution_count": 81,
   "metadata": {},
   "outputs": [
    {
     "name": "stdout",
     "output_type": "stream",
     "text": [
      "[]\n"
     ]
    }
   ],
   "source": [
    "t=[7,34,2,56]\n",
    "t.clear()\n",
    "print(t)"
   ]
  },
  {
   "cell_type": "code",
   "execution_count": 82,
   "metadata": {
    "scrolled": true
   },
   "outputs": [
    {
     "ename": "NameError",
     "evalue": "name 't' is not defined",
     "output_type": "error",
     "traceback": [
      "\u001b[1;31m---------------------------------------------------------------------------\u001b[0m",
      "\u001b[1;31mNameError\u001b[0m                                 Traceback (most recent call last)",
      "\u001b[1;32m<ipython-input-82-34ebc2967bef>\u001b[0m in \u001b[0;36m<module>\u001b[1;34m\u001b[0m\n\u001b[0;32m      1\u001b[0m \u001b[0mt\u001b[0m\u001b[1;33m=\u001b[0m\u001b[1;33m[\u001b[0m\u001b[1;36m7\u001b[0m\u001b[1;33m,\u001b[0m\u001b[1;36m34\u001b[0m\u001b[1;33m,\u001b[0m\u001b[1;36m2\u001b[0m\u001b[1;33m,\u001b[0m\u001b[1;36m56\u001b[0m\u001b[1;33m]\u001b[0m\u001b[1;33m\u001b[0m\u001b[1;33m\u001b[0m\u001b[0m\n\u001b[0;32m      2\u001b[0m \u001b[1;32mdel\u001b[0m\u001b[1;33m(\u001b[0m\u001b[0mt\u001b[0m\u001b[1;33m)\u001b[0m\u001b[1;33m\u001b[0m\u001b[1;33m\u001b[0m\u001b[0m\n\u001b[1;32m----> 3\u001b[1;33m \u001b[0mprint\u001b[0m\u001b[1;33m(\u001b[0m\u001b[0mt\u001b[0m\u001b[1;33m)\u001b[0m\u001b[1;33m\u001b[0m\u001b[1;33m\u001b[0m\u001b[0m\n\u001b[0m",
      "\u001b[1;31mNameError\u001b[0m: name 't' is not defined"
     ]
    }
   ],
   "source": [
    "t=[7,34,2,56]\n",
    "del(t)\n",
    "print(t)"
   ]
  },
  {
   "cell_type": "code",
   "execution_count": null,
   "metadata": {},
   "outputs": [],
   "source": [
    "#Examples:"
   ]
  },
  {
   "cell_type": "code",
   "execution_count": 95,
   "metadata": {},
   "outputs": [
    {
     "name": "stdout",
     "output_type": "stream",
     "text": [
      "[1, 4, 9, 16]\n"
     ]
    }
   ],
   "source": [
    "l=[1,2,3,4]\n",
    "li=[]\n",
    "for i in l:\n",
    "    li.append(i**2)\n",
    "print(li)  "
   ]
  },
  {
   "cell_type": "code",
   "execution_count": null,
   "metadata": {},
   "outputs": [],
   "source": [
    "li=list(map(int,input().split()))"
   ]
  },
  {
   "cell_type": "code",
   "execution_count": 123,
   "metadata": {},
   "outputs": [
    {
     "name": "stdout",
     "output_type": "stream",
     "text": [
      "[9, 8, 7, 6] \n",
      " [[0], [0, 2], [0, 1], [4, 1, 2]]\n",
      "[[9], [8, 10], [7, 8], [10, 7, 8]]\n"
     ]
    }
   ],
   "source": [
    "l1=[9,8,7,6]\n",
    "l2=[[0],[0,2],[0,1],[4,1,2]]\n",
    "o=[]\n",
    "for i in range(len(l1)):\n",
    "    temp=[]\n",
    "    for j in l2[i]:\n",
    "        temp.append(j+l1[i])\n",
    "    o.append(temp)\n",
    "print(l1,\"\\n\",l2)\n",
    "print(o)"
   ]
  },
  {
   "cell_type": "code",
   "execution_count": 124,
   "metadata": {},
   "outputs": [
    {
     "name": "stdout",
     "output_type": "stream",
     "text": [
      "[12, 23, 45, 13]\n"
     ]
    }
   ],
   "source": [
    "#duplicates remove\n",
    "l=[12,12,23,45,13,23]\n",
    "li=[]\n",
    "for i in l:\n",
    "    if i not in li:\n",
    "        li.append(i)\n",
    "print(li)"
   ]
  },
  {
   "cell_type": "code",
   "execution_count": 125,
   "metadata": {},
   "outputs": [
    {
     "name": "stdout",
     "output_type": "stream",
     "text": [
      "[45, 13]\n"
     ]
    }
   ],
   "source": [
    "#unique elements:\n",
    "l=[12,12,23,45,13,23]\n",
    "li=[]\n",
    "for i in l:\n",
    "    if l.count(i)==1:\n",
    "        li.append(i)\n",
    "print(li)"
   ]
  },
  {
   "cell_type": "code",
   "execution_count": 126,
   "metadata": {},
   "outputs": [
    {
     "name": "stdout",
     "output_type": "stream",
     "text": [
      "average: 3.0\n"
     ]
    }
   ],
   "source": [
    "#average\n",
    "l=[1,2,3,4,5]\n",
    "print(\"average:\",sum(l)/len(l))"
   ]
  },
  {
   "cell_type": "code",
   "execution_count": null,
   "metadata": {},
   "outputs": [],
   "source": []
  },
  {
   "cell_type": "code",
   "execution_count": null,
   "metadata": {},
   "outputs": [],
   "source": []
  },
  {
   "cell_type": "code",
   "execution_count": null,
   "metadata": {},
   "outputs": [],
   "source": [
    "# tuple:\n",
    "- Tuples are used to hold together multiple objects.\n",
    "- Tuple is a collection which is ordered and unchangeable. Allows duplicate members.\n",
    "- One major feature of tuples is that they are immutable. i.e. you cannot modify tuples.\n",
    "- Tuples are defined by specifying items separated by commas within an optional pair of parentheses.\n",
    "- Tuples are another standard sequence data type.\n",
    "- The difference between tuples and list is that tuples are immutable,\n",
    "- which means once defined you cannot delete, add or edit any values inside it.\n",
    "- This might be useful in situations where you might to pass\n",
    "- the control to someone else but you do not want them to manipulate data in your collection,\n",
    "- but rather maybe just see them or perform operations separately in a copy of the data.\n",
    "- Tuples are similar to lists but they are immutable.\n",
    "- which means the values in a tuple cannot be modified they can only be read."
   ]
  },
  {
   "cell_type": "code",
   "execution_count": 85,
   "metadata": {
    "scrolled": true
   },
   "outputs": [
    {
     "name": "stdout",
     "output_type": "stream",
     "text": [
      "()\n",
      "<class 'tuple'>\n"
     ]
    }
   ],
   "source": [
    "#empty tuple\n",
    "t=()\n",
    "print(t)\n",
    "print(type(t))"
   ]
  },
  {
   "cell_type": "code",
   "execution_count": 86,
   "metadata": {},
   "outputs": [
    {
     "name": "stdout",
     "output_type": "stream",
     "text": [
      "(24, 56.8, 'python')\n"
     ]
    }
   ],
   "source": [
    "#multituple\n",
    "t=(24,56.8,\"python\")\n",
    "print(t)"
   ]
  },
  {
   "cell_type": "code",
   "execution_count": 96,
   "metadata": {},
   "outputs": [
    {
     "name": "stdout",
     "output_type": "stream",
     "text": [
      "(23, 23, 45, 67, 12, 10, 12)\n"
     ]
    }
   ],
   "source": [
    "#duplicates:\n",
    "t=(23,23,45,67,12,10,12)\n",
    "print(t)"
   ]
  },
  {
   "cell_type": "code",
   "execution_count": 80,
   "metadata": {},
   "outputs": [
    {
     "name": "stdout",
     "output_type": "stream",
     "text": [
      "type: <class 'tuple'>\n",
      "length: 4\n",
      "min: 2\n",
      "max: 34\n",
      "sorted: [2, 12, 23, 34]\n",
      "sum: 71\n"
     ]
    }
   ],
   "source": [
    "# integer tuple\n",
    "t=(23,12,34,2)\n",
    "print(\"type:\",type(t))\n",
    "print(\"length:\",len(t))\n",
    "print(\"min:\",min(t))\n",
    "print(\"max:\",max(t))\n",
    "print(\"sorted:\",sorted(t))\n",
    "print(\"sum:\",sum(t))"
   ]
  },
  {
   "cell_type": "code",
   "execution_count": 81,
   "metadata": {},
   "outputs": [
    {
     "ename": "TypeError",
     "evalue": "'tuple' object does not support item assignment",
     "output_type": "error",
     "traceback": [
      "\u001b[1;31m---------------------------------------------------------------------------\u001b[0m",
      "\u001b[1;31mTypeError\u001b[0m                                 Traceback (most recent call last)",
      "\u001b[1;32m<ipython-input-81-c2f007f486d9>\u001b[0m in \u001b[0;36m<module>\u001b[1;34m\u001b[0m\n\u001b[0;32m      1\u001b[0m \u001b[1;31m#tuple is immutable\u001b[0m\u001b[1;33m\u001b[0m\u001b[1;33m\u001b[0m\u001b[1;33m\u001b[0m\u001b[0m\n\u001b[0;32m      2\u001b[0m \u001b[0mt\u001b[0m\u001b[1;33m=\u001b[0m\u001b[1;33m(\u001b[0m\u001b[1;36m23\u001b[0m\u001b[1;33m,\u001b[0m\u001b[1;36m12\u001b[0m\u001b[1;33m,\u001b[0m\u001b[1;36m34\u001b[0m\u001b[1;33m,\u001b[0m\u001b[1;36m2\u001b[0m\u001b[1;33m)\u001b[0m\u001b[1;33m\u001b[0m\u001b[1;33m\u001b[0m\u001b[0m\n\u001b[1;32m----> 3\u001b[1;33m \u001b[0mt\u001b[0m\u001b[1;33m[\u001b[0m\u001b[1;36m3\u001b[0m\u001b[1;33m]\u001b[0m\u001b[1;33m=\u001b[0m\u001b[1;36m70\u001b[0m\u001b[1;33m\u001b[0m\u001b[1;33m\u001b[0m\u001b[0m\n\u001b[0m\u001b[0;32m      4\u001b[0m \u001b[0mt\u001b[0m\u001b[1;33m\u001b[0m\u001b[1;33m\u001b[0m\u001b[0m\n",
      "\u001b[1;31mTypeError\u001b[0m: 'tuple' object does not support item assignment"
     ]
    }
   ],
   "source": [
    "#tuple is immutable\n",
    "t=(23,12,34,2)\n",
    "t[3]=70\n",
    "t"
   ]
  },
  {
   "cell_type": "code",
   "execution_count": 100,
   "metadata": {},
   "outputs": [
    {
     "name": "stdout",
     "output_type": "stream",
     "text": [
      "20\n",
      "50\n",
      "(30, 50, 1)\n",
      "(10, 50)\n",
      "(20, 1, 50, 30, 10, 20)\n"
     ]
    }
   ],
   "source": [
    "#Accessing List elements:\n",
    "#indexing:\n",
    "t=(20,10,30,50,1,20)\n",
    "print(t[0])\n",
    "#negtive indexing:\n",
    "print(t[-3])\n",
    "#slicing:\n",
    "print(t[2:5])\n",
    "print(t[1:5:2])\n",
    "print(t[::-1])"
   ]
  },
  {
   "cell_type": "code",
   "execution_count": 101,
   "metadata": {},
   "outputs": [
    {
     "name": "stdout",
     "output_type": "stream",
     "text": [
      "[1, 2, 3, 4, 5, 12, 10, 67, 3, 45, 78]\n"
     ]
    }
   ],
   "source": [
    "#concatenation:\n",
    "t1=(1,2,3,4,5)\n",
    "t2=(2,3,7,9,0,8)\n",
    "print(li1+li2)"
   ]
  },
  {
   "cell_type": "code",
   "execution_count": 108,
   "metadata": {},
   "outputs": [
    {
     "name": "stdout",
     "output_type": "stream",
     "text": [
      "(23, 1, 2, 12, (23, 45, 10), 89)\n",
      "12\n",
      "(23, 45, 10)\n",
      "45\n"
     ]
    }
   ],
   "source": [
    "t=(23,1,2,12,(23,45,10),89)\n",
    "print(t)\n",
    "print(t[3])\n",
    "print(t[4])\n",
    "print(t[4][1])"
   ]
  },
  {
   "cell_type": "code",
   "execution_count": 82,
   "metadata": {},
   "outputs": [
    {
     "name": "stdout",
     "output_type": "stream",
     "text": [
      "['__add__', '__class__', '__contains__', '__delattr__', '__dir__', '__doc__', '__eq__', '__format__', '__ge__', '__getattribute__', '__getitem__', '__getnewargs__', '__gt__', '__hash__', '__init__', '__init_subclass__', '__iter__', '__le__', '__len__', '__lt__', '__mul__', '__ne__', '__new__', '__reduce__', '__reduce_ex__', '__repr__', '__rmul__', '__setattr__', '__sizeof__', '__str__', '__subclasshook__', 'count', 'index'] "
     ]
    }
   ],
   "source": [
    "print(dir(tuple),end=\" \")"
   ]
  },
  {
   "cell_type": "code",
   "execution_count": 90,
   "metadata": {
    "scrolled": true
   },
   "outputs": [
    {
     "name": "stdout",
     "output_type": "stream",
     "text": [
      "2\n",
      "0\n"
     ]
    }
   ],
   "source": [
    "t=(23,12,34,2,23)\n",
    "print(t.count(23))\n",
    "print(t.index(23))"
   ]
  },
  {
   "cell_type": "code",
   "execution_count": null,
   "metadata": {},
   "outputs": [],
   "source": [
    "#Tuple assignment\n",
    "- Tuple packing and unpacking are some useful operations,\n",
    "- that you can perform to assign values to a tuple of elements from another tuple in a single line.\n",
    "- We already saw tuple packing when we made our t tuple. \n",
    "- Tuple unpacking is just the opposite-assigning values to variables from a tuple"
   ]
  },
  {
   "cell_type": "code",
   "execution_count": 109,
   "metadata": {
    "scrolled": true
   },
   "outputs": [
    {
     "name": "stdout",
     "output_type": "stream",
     "text": [
      "23\n",
      "45.7\n",
      "vignan\n",
      "(23, 45.7, 'vignan')\n"
     ]
    }
   ],
   "source": [
    "# tuple packing\n",
    "t=(23,45.7,\"vignan\")\n",
    "# tuple unpacking\n",
    "a,b,c=t\n",
    "print(a)\n",
    "print(b)\n",
    "print(c)\n",
    "print(t)"
   ]
  },
  {
   "cell_type": "code",
   "execution_count": null,
   "metadata": {},
   "outputs": [],
   "source": [
    "#Changing Tuple to list"
   ]
  },
  {
   "cell_type": "code",
   "execution_count": 111,
   "metadata": {},
   "outputs": [
    {
     "name": "stdout",
     "output_type": "stream",
     "text": [
      "<class 'tuple'>\n",
      "(12, 12, 23, 67, 10)\n",
      "<class 'list'>\n",
      "[12, 12, 23, 67, 10]\n"
     ]
    }
   ],
   "source": [
    "t=(12,12,23,67,10)\n",
    "print(type(t))\n",
    "print(t)\n",
    "l=list(t)\n",
    "print(type(l))\n",
    "print(l)"
   ]
  },
  {
   "cell_type": "code",
   "execution_count": 113,
   "metadata": {},
   "outputs": [],
   "source": [
    "#Changing list to tuple"
   ]
  },
  {
   "cell_type": "code",
   "execution_count": 112,
   "metadata": {},
   "outputs": [
    {
     "name": "stdout",
     "output_type": "stream",
     "text": [
      "<class 'list'>\n",
      "[12, 12, 23, 67, 10, 90]\n",
      "<class 'tuple'>\n",
      "(12, 12, 23, 67, 10, 90)\n"
     ]
    }
   ],
   "source": [
    "l.append(90)\n",
    "print(type(l))\n",
    "print(l)\n",
    "t1=tuple(l)\n",
    "print(type(t1))\n",
    "print(t1)"
   ]
  },
  {
   "cell_type": "code",
   "execution_count": 114,
   "metadata": {},
   "outputs": [
    {
     "ename": "NameError",
     "evalue": "name 't1' is not defined",
     "output_type": "error",
     "traceback": [
      "\u001b[1;31m---------------------------------------------------------------------------\u001b[0m",
      "\u001b[1;31mNameError\u001b[0m                                 Traceback (most recent call last)",
      "\u001b[1;32m<ipython-input-114-8fed61a84154>\u001b[0m in \u001b[0;36m<module>\u001b[1;34m\u001b[0m\n\u001b[0;32m      1\u001b[0m \u001b[1;32mdel\u001b[0m \u001b[0mt1\u001b[0m\u001b[1;33m\u001b[0m\u001b[1;33m\u001b[0m\u001b[0m\n\u001b[1;32m----> 2\u001b[1;33m \u001b[0mprint\u001b[0m\u001b[1;33m(\u001b[0m\u001b[0mt1\u001b[0m\u001b[1;33m)\u001b[0m\u001b[1;33m\u001b[0m\u001b[1;33m\u001b[0m\u001b[0m\n\u001b[0m",
      "\u001b[1;31mNameError\u001b[0m: name 't1' is not defined"
     ]
    }
   ],
   "source": [
    "del t1\n",
    "print(t1)"
   ]
  },
  {
   "cell_type": "code",
   "execution_count": null,
   "metadata": {},
   "outputs": [],
   "source": []
  },
  {
   "cell_type": "code",
   "execution_count": null,
   "metadata": {},
   "outputs": [],
   "source": []
  },
  {
   "cell_type": "code",
   "execution_count": null,
   "metadata": {},
   "outputs": [],
   "source": [
    "#dictionary:\n",
    "- Dictionaries are exactly what you need.\n",
    "- if you want to implement something similar to a telephone book.\n",
    "- None of the data structures that you have seen before are suitable for a telephone book.\n",
    "- This is when a dictionary can come in handy.\n",
    "- Dictionaries are made up of key-value pairs. \n",
    "- key is used to identify the item and the value holds as the name suggests, the value of the item."
   ]
  },
  {
   "cell_type": "code",
   "execution_count": null,
   "metadata": {},
   "outputs": [],
   "source": []
  },
  {
   "cell_type": "code",
   "execution_count": null,
   "metadata": {},
   "outputs": [],
   "source": []
  },
  {
   "cell_type": "code",
   "execution_count": null,
   "metadata": {},
   "outputs": [],
   "source": [
    "#sets:\n",
    "- Sets are a collection of distinct (unique) objects.\n",
    "- These are useful to create lists that only hold unique values in the dataset.\n",
    "- It is an unordered collection but a mutable one,\n",
    "- this is very helpful when going through a huge dataset."
   ]
  },
  {
   "cell_type": "code",
   "execution_count": null,
   "metadata": {},
   "outputs": [],
   "source": []
  }
 ],
 "metadata": {
  "kernelspec": {
   "display_name": "Python 3",
   "language": "python",
   "name": "python3"
  },
  "language_info": {
   "codemirror_mode": {
    "name": "ipython",
    "version": 3
   },
   "file_extension": ".py",
   "mimetype": "text/x-python",
   "name": "python",
   "nbconvert_exporter": "python",
   "pygments_lexer": "ipython3",
   "version": "3.7.3"
  }
 },
 "nbformat": 4,
 "nbformat_minor": 2
}
