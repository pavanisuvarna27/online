{
 "cells": [
  {
   "cell_type": "markdown",
   "metadata": {},
   "source": [
    "# conditional statements"
   ]
  },
  {
   "cell_type": "markdown",
   "metadata": {},
   "source": [
    "- we almost always need the ability to check conditions and change the behavior of the program\n",
    "accordingly.\n",
    "- Conditional statements give us this ability.\n",
    "1.if statement\n",
    "2.if-else statement\n",
    "3.elif statement\n",
    "4.nested statements"
   ]
  },
  {
   "cell_type": "code",
   "execution_count": null,
   "metadata": {},
   "outputs": [],
   "source": [
    "#Indentation in Python:\n",
    "- python doesn't allow the use of parentheses for the block level code.\n",
    "  In Python, indentation is used to declare a block.\n",
    "- If two statements are at the same indentation level, then they are the part of the same block.\n",
    "- Generally, four spaces are given to indent the statements which are a typical amount of\n",
    "  indentation in python.\n",
    "- Indentation is the most used part of the python language since it declares the block of code.\n",
    "- All the statements of one block are intended at the same level indentation."
   ]
  },
  {
   "cell_type": "code",
   "execution_count": null,
   "metadata": {},
   "outputs": [],
   "source": [
    "1.if statement:\n",
    "- if statement is used to test a particular condition.\n",
    "- if the condition is true, it executes a block of code known as if-block.\n",
    "- The condition of if statement can be any valid logical expression which can be either\n",
    "  evaluated to true or false.\n",
    "#syntax:\n",
    "if expression:\n",
    "    statement"
   ]
  },
  {
   "cell_type": "code",
   "execution_count": 28,
   "metadata": {},
   "outputs": [
    {
     "name": "stdout",
     "output_type": "stream",
     "text": [
      "34\n",
      "34 is positive\n"
     ]
    }
   ],
   "source": [
    "#positive\n",
    "n = int(input())\n",
    "if n>0:\n",
    "    print(n,\"is positive\")"
   ]
  },
  {
   "cell_type": "code",
   "execution_count": 7,
   "metadata": {},
   "outputs": [
    {
     "name": "stdout",
     "output_type": "stream",
     "text": [
      "not zero\n"
     ]
    }
   ],
   "source": [
    "if 0:\n",
    "    print(\"zero\")\n",
    "else: \n",
    "        print(\"not zero\")"
   ]
  },
  {
   "cell_type": "code",
   "execution_count": 15,
   "metadata": {},
   "outputs": [
    {
     "name": "stdout",
     "output_type": "stream",
     "text": [
      "enter a number:3\n",
      "x is smaller than 10\n"
     ]
    }
   ],
   "source": [
    "x=int(input(\"enter a number:\"))\n",
    "if x<10:\n",
    "    print(\"x is smaller than 10\")"
   ]
  },
  {
   "cell_type": "code",
   "execution_count": null,
   "metadata": {},
   "outputs": [],
   "source": [
    "2.if-else statement:\n",
    "- The if-else statement provides an else block combined with the if statement which is executed\n",
    "  in the false case of the condition.\n",
    "- If the condition is true, then the if-block is executed. Otherwise, the else-block is executed.\n",
    "#syntax:\n",
    "if condition:\n",
    "    block of statements   \n",
    "else:\n",
    "    another block of statements (else-block) "
   ]
  },
  {
   "cell_type": "code",
   "execution_count": 16,
   "metadata": {},
   "outputs": [
    {
     "name": "stdout",
     "output_type": "stream",
     "text": [
      "Enter your age? 70\n",
      "You are eligible to vote !!\n"
     ]
    }
   ],
   "source": [
    "age = int (input(\"Enter your age? \"))  \n",
    "if age>=18:  \n",
    "    print(\"You are eligible to vote !!\");  \n",
    "else:  \n",
    "    print(\"Sorry! you have to wait !!\");"
   ]
  },
  {
   "cell_type": "code",
   "execution_count": 29,
   "metadata": {},
   "outputs": [
    {
     "name": "stdout",
     "output_type": "stream",
     "text": [
      "23\n",
      "odd\n"
     ]
    }
   ],
   "source": [
    "#even or odd\n",
    "even = int(input())\n",
    "if even%2 == 0:\n",
    "    print(\"even\")\n",
    "else:\n",
    "    print(\"odd\")"
   ]
  },
  {
   "cell_type": "code",
   "execution_count": 31,
   "metadata": {},
   "outputs": [
    {
     "name": "stdout",
     "output_type": "stream",
     "text": [
      "20 is big\n"
     ]
    }
   ],
   "source": [
    "#biggest of 3 numbers\n",
    "a,b,c = 10,20,15\n",
    "if a>b and a>c:\n",
    "    print(a,\"a is big\")\n",
    "elif b>a and b>c:\n",
    "    print(b,\"is big\")\n",
    "else:\n",
    "    print(c,\"is big\")"
   ]
  },
  {
   "cell_type": "code",
   "execution_count": 1,
   "metadata": {},
   "outputs": [
    {
     "name": "stdout",
     "output_type": "stream",
     "text": [
      "Not a Leap Year\n"
     ]
    }
   ],
   "source": [
    "# Check if a year is a Leap year\n",
    "year = 1234\n",
    "if year % 400 == 0 or (year % 100 != 0 and year % 4 == 0):\n",
    "    print(\"Leap Year\")\n",
    "else:\n",
    "    print(\"Not a Leap Year\")"
   ]
  },
  {
   "cell_type": "code",
   "execution_count": 2,
   "metadata": {},
   "outputs": [
    {
     "name": "stdout",
     "output_type": "stream",
     "text": [
      "Number exists in the given range\n"
     ]
    }
   ],
   "source": [
    "# Check if a number exists in a given range(inclusive)\n",
    "\n",
    "n1 = 123\n",
    "lb = 50\n",
    "ub = 150\n",
    "\n",
    "if n1 >= lb and n1 <= ub:\n",
    "    print(\"Number exists in the given range\")\n",
    "else:\n",
    "    print(n1, \"does not exist in the given range\")"
   ]
  },
  {
   "cell_type": "code",
   "execution_count": 3,
   "metadata": {
    "scrolled": true
   },
   "outputs": [
    {
     "name": "stdout",
     "output_type": "stream",
     "text": [
      "9\n",
      "134245925 is not a multiple of 10\n"
     ]
    }
   ],
   "source": [
    "# Check if a number is a multiple of 10\n",
    "n1 = 134245925\n",
    "print(len(str(n1)))\n",
    "if n1 % 10 == 0:\n",
    "    print(n1, \"is a multiple of 10\")\n",
    "else:\n",
    "    print(n1, \"is not a multiple of 10\")"
   ]
  },
  {
   "cell_type": "code",
   "execution_count": 4,
   "metadata": {},
   "outputs": [
    {
     "name": "stdout",
     "output_type": "stream",
     "text": [
      "134245925 is not a factor of 10\n"
     ]
    }
   ],
   "source": [
    "# Check if a number is a factor of 1000\n",
    "n1 = 134245925\n",
    "if 1000 % n1 == 0:\n",
    "    print(n1, \"is a factor of 10\")\n",
    "else:\n",
    "    print(n1, \"is not a factor of 10\")"
   ]
  },
  {
   "cell_type": "code",
   "execution_count": 5,
   "metadata": {},
   "outputs": [
    {
     "name": "stdout",
     "output_type": "stream",
     "text": [
      "123456 is not equal to python\n"
     ]
    }
   ],
   "source": [
    "# Check if given string is equal to a number\n",
    "s1 = \"python\"\n",
    "n1 = 123456\n",
    "if str(n1) == s1:\n",
    "    print(n1, \"is equal to\", s1)\n",
    "else:\n",
    "    print(n1, \"is not equal to\", s1)"
   ]
  },
  {
   "cell_type": "code",
   "execution_count": 6,
   "metadata": {},
   "outputs": [
    {
     "name": "stdout",
     "output_type": "stream",
     "text": [
      "31622400000000000\n"
     ]
    }
   ],
   "source": [
    "# Calculate the number of nano seconds in a \n",
    "#given year(considering leap year logic)\n",
    "year = 2016\n",
    "if year % 400 == 0 or (year % 100 != 0 and year % 4 == 0):\n",
    "    print(366 * 24 * 60 * 60 * (10**9))\n",
    "else:\n",
    "    print(365 * 24 * 60 * 60 * (10**9))"
   ]
  },
  {
   "cell_type": "markdown",
   "metadata": {},
   "source": [
    "### Nested if"
   ]
  },
  {
   "cell_type": "code",
   "execution_count": 30,
   "metadata": {},
   "outputs": [
    {
     "name": "stdout",
     "output_type": "stream",
     "text": [
      "22\n",
      "10648\n",
      "even\n"
     ]
    }
   ],
   "source": [
    "#if even and lessthan 5 then print power 2,greaterthan 5 print power 3,if odd print odd\n",
    "even = int(input())\n",
    "if even%2 == 0:\n",
    "    if even<5:\n",
    "        print(even**2)\n",
    "    else:\n",
    "        print(even**3)\n",
    "    print(\"even\")\n",
    "else:\n",
    "    print(\"odd\")"
   ]
  },
  {
   "cell_type": "code",
   "execution_count": 13,
   "metadata": {},
   "outputs": [
    {
     "name": "stdout",
     "output_type": "stream",
     "text": [
      "Enter username:80\n",
      "Enter password: 6879\n",
      "Welcome 80\n"
     ]
    }
   ],
   "source": [
    "uid=int(input('Enter username:'))\n",
    "if(uid>=50 and uid<=100):\n",
    "    pwd=int(input('Enter password: '))\n",
    "    if(pwd==6879):\n",
    "        print(\"Welcome\",uid)\n",
    "    else:\n",
    "        print(\"Invalid\")\n",
    "else:\n",
    "    print(\"Invalid Username\")"
   ]
  },
  {
   "cell_type": "code",
   "execution_count": null,
   "metadata": {},
   "outputs": [],
   "source": [
    "3.elif statement:\n",
    "- Chained conditionals:\n",
    "- Sometimes there are more than two possibilities and we need more thantwo branches.\n",
    "- One way to express a computation like that is a chained conditional\n",
    "- elif is an abbreviation of “else if.\n",
    "syntax:\n",
    "if expression 1:\n",
    "    block of statements   \n",
    "elif expression 2:\n",
    "    block of statements  \n",
    "elif expression 3:\n",
    "    block of statements \n",
    "else:\n",
    "    block of statements  "
   ]
  },
  {
   "cell_type": "code",
   "execution_count": 10,
   "metadata": {
    "scrolled": true
   },
   "outputs": [
    {
     "name": "stdout",
     "output_type": "stream",
     "text": [
      "$\n",
      "Special Symbol\n"
     ]
    }
   ],
   "source": [
    "n=input()\n",
    "if((n>='a' and n<='z') or (n>='A' and n<='Z')):\n",
    "    print(\"Alphabet\")\n",
    "elif(n>='0' and n<='9'):\n",
    "    print(\"Digit\")\n",
    "else:\n",
    "    print(\"Special Symbol\")"
   ]
  },
  {
   "cell_type": "code",
   "execution_count": 17,
   "metadata": {},
   "outputs": [
    {
     "name": "stdout",
     "output_type": "stream",
     "text": [
      "b\n",
      "close,but not correct!\n"
     ]
    }
   ],
   "source": [
    "choice=input()\n",
    "if choice=='a':\n",
    "    print(\"bad guess\")\n",
    "elif choice=='b':\n",
    "    print(\"close,but not correct!\")\n",
    "elif choice=='c':\n",
    "    print(\"good guess\")"
   ]
  },
  {
   "cell_type": "code",
   "execution_count": 18,
   "metadata": {},
   "outputs": [
    {
     "name": "stdout",
     "output_type": "stream",
     "text": [
      "Enter the marks: 79\n",
      "You scored grade B  ...\n"
     ]
    }
   ],
   "source": [
    "marks = int(input(\"Enter the marks: \"))  \n",
    "if marks >= 80 and marks <= 100:  \n",
    "   print(\"Congrats ! you scored grade A ...\")  \n",
    "elif marks >= 70 and marks <= 79:  \n",
    "   print(\"You scored grade B  ...\")  \n",
    "elif marks >= 60 and marks <= 69:  \n",
    "   print(\"You scored grade C ...\")  \n",
    "elif (marks >= 45 and marks <= 59):  \n",
    "   print(\"You scored grade D ...\")  \n",
    "else:  \n",
    "   print(\"Sorry you are fail !\")"
   ]
  },
  {
   "cell_type": "code",
   "execution_count": null,
   "metadata": {},
   "outputs": [],
   "source": []
  },
  {
   "cell_type": "code",
   "execution_count": 9,
   "metadata": {},
   "outputs": [
    {
     "name": "stdout",
     "output_type": "stream",
     "text": [
      "Enter number: 7\n",
      "Invalid\n"
     ]
    }
   ],
   "source": [
    "#0-sunday 1-monday 2-tuesday 3-wednesday 4-thursday 5-friday 6-saturday 9-invalid\n",
    "\n",
    "n=int(input('Enter number: '))\n",
    "if(n==0):\n",
    "    print(\"Sunday\")\n",
    "elif(n==1):\n",
    "    print(\"Monday\")\n",
    "elif(n==2):\n",
    "    print(\"Tuesday\")\n",
    "elif(n==3):\n",
    "    print(\"Wednesday\")\n",
    "elif(n==4):\n",
    "    print(\"Thursday\")\n",
    "elif(n==5):\n",
    "    print(\"Friday\")\n",
    "elif(n==6):\n",
    "    print(\"Saturday\")\n",
    "else:\n",
    "    print(\"Invalid\")"
   ]
  },
  {
   "cell_type": "code",
   "execution_count": 1,
   "metadata": {},
   "outputs": [
    {
     "name": "stdout",
     "output_type": "stream",
     "text": [
      "enter a number 20\n",
      "enter b number 10\n",
      "1.add 2.sub 3. mul 4. div 5. mod 6.power 7. floordivision\n",
      "enter your choice3\n",
      "multiplication  of 200\n"
     ]
    }
   ],
   "source": [
    "#arthimatic operators\n",
    "a=int(input(\"enter a number \"))\n",
    "b=int(input(\"enter b number \"))\n",
    "print(\"1.add 2.sub 3. mul 4. div 5. mod 6.power 7. floordivision\")\n",
    "choice=int(input(\"enter your choice\"))\n",
    "if choice==1:\n",
    "    print(\"addition is\",a+b)\n",
    "elif choice ==2:\n",
    "    print(\"subtraction of\",a-b)\n",
    "elif choice ==3:\n",
    "    print(\"multiplication  of\",a*b)\n",
    "elif choice ==4:\n",
    "    print(\"division of\",a/b)\n",
    "elif choice ==5:\n",
    "    print(\"modulus of\",a%b)\n",
    "elif choice ==6:\n",
    "    print(\"power of\",a**b)\n",
    "elif choice ==7:\n",
    "    print(\"floor of\",a//b)\n",
    "else:\n",
    "    print(\"enter a valid choice\")"
   ]
  },
  {
   "cell_type": "code",
   "execution_count": null,
   "metadata": {},
   "outputs": [],
   "source": [
    "#Nested if\n",
    "- You can use one if or else if statement inside another if or else if statement(s).\n",
    "- There may be a situation when you want to check for another condition after a condition\n",
    " resolves to true. In such a situation, you can use the nested if construct.\n",
    "- In a nested if construct, you can have an if...elif...else construct inside another\n",
    "  if...elif...else construct.\n",
    "#Syntax\n",
    "The syntax of the nested if...elif...else construct may be −\n",
    "\n",
    "if expression1:\n",
    "   statement(s)\n",
    "   if expression2:\n",
    "      statement(s)\n",
    "   elif expression3:\n",
    "      statement(s)\n",
    "   elif expression4:\n",
    "      statement(s)\n",
    "   else:\n",
    "      statement(s)\n",
    "else:\n",
    "   statement(s)"
   ]
  },
  {
   "cell_type": "code",
   "execution_count": 21,
   "metadata": {},
   "outputs": [
    {
     "name": "stdout",
     "output_type": "stream",
     "text": [
      "50\n",
      "Shipping Cost is $25\n",
      "Shipping Cost is  $100\n"
     ]
    }
   ],
   "source": [
    "total = int(input())\n",
    "#country = \"US\"\n",
    "country = \"AU\"\n",
    "if country == \"US\":\n",
    "    if total <= 50:\n",
    "        print(\"Shipping Cost is  $50\")\n",
    "elif total <= 100:\n",
    "        print(\"Shipping Cost is $25\")\n",
    "elif total <= 150:\n",
    "\t    print(\"Shipping Costs $5\")\n",
    "else:\n",
    "        print(\"FREE\")\n",
    "if country == \"AU\": \n",
    "\t  if total <= 50:\n",
    "\t    print(\"Shipping Cost is  $100\")\n",
    "else:\n",
    "\t    print(\"FREE\")"
   ]
  },
  {
   "cell_type": "code",
   "execution_count": 24,
   "metadata": {},
   "outputs": [
    {
     "name": "stdout",
     "output_type": "stream",
     "text": [
      "Expression value is less than 200\n",
      "Which is 100\n",
      "Good bye!\n"
     ]
    }
   ],
   "source": [
    "var = 100\n",
    "if var < 200:\n",
    "    print(\"Expression value is less than 200\")\n",
    "    if var == 150:\n",
    "        print(\"Which is 150\")\n",
    "    elif var == 100:\n",
    "        print(\"Which is 100\")\n",
    "    elif var == 50:\n",
    "        print(\"Which is 50\")\n",
    "    elif var < 50:\n",
    "        print(\"Expression value is less than 50\")\n",
    "else:\n",
    "    print(\"Could not find true expression\")\n",
    "\n",
    "print(\"Good bye!\")"
   ]
  },
  {
   "cell_type": "markdown",
   "metadata": {},
   "source": [
    "# iterations"
   ]
  },
  {
   "cell_type": "code",
   "execution_count": null,
   "metadata": {},
   "outputs": [],
   "source": [
    "#loops:\n",
    "- loop is a programming structure that repeats a sequence of instructions until a specific\n",
    " condition satisfies.\n",
    "- The programming languages provide various types of loops which are capable of repeating some\n",
    "  specific code several numbers of times.\n",
    "# Advantages of loops:\n",
    "- 1.It provides code re-usability.\n",
    "- 2.Using loops, we do not need to write the same code again and again.\n",
    "- 3.Using loops, we can traverse over the elements of data structures (array or linked lists)."
   ]
  },
  {
   "cell_type": "code",
   "execution_count": null,
   "metadata": {},
   "outputs": [],
   "source": [
    "#for loop:\n",
    "- The for loop is used in the case where we need to execute some part of the code until\n",
    "  the given condition satisfied.\n",
    "- The for loop is also called as a per-tested loop.\n",
    "- It is better to use for loop if the number of iteration is known in advance.\n",
    "#syntax:\n",
    "for iterating_var in iterable:\n",
    "    statement/statements"
   ]
  },
  {
   "cell_type": "code",
   "execution_count": 36,
   "metadata": {},
   "outputs": [
    {
     "name": "stdout",
     "output_type": "stream",
     "text": [
      "H\n",
      "e\n",
      "l\n",
      "l\n",
      "o\n",
      " \n",
      "w\n",
      "o\n",
      "r\n",
      "l\n",
      "d\n"
     ]
    }
   ],
   "source": [
    "for letter in 'Hello world':\n",
    "    print(letter)"
   ]
  },
  {
   "cell_type": "code",
   "execution_count": 59,
   "metadata": {},
   "outputs": [
    {
     "name": "stdout",
     "output_type": "stream",
     "text": [
      "Enter the number up to which you want to print the natural numbers?50\n",
      "0 1 2 3 4 5 6 7 8 9 10 11 12 13 14 15 16 17 18 19 20 21 22 23 24 25 26 27 28 29 30 31 32 33 34 35 36 37 38 39 40 41 42 43 44 45 46 47 48 49 "
     ]
    }
   ],
   "source": [
    " n=int(input(\"Enter the number up to which you want to print the natural numbers?\"))  \n",
    "for i in range(0,n):  \n",
    "    print(i,end = ' ')"
   ]
  },
  {
   "cell_type": "code",
   "execution_count": 62,
   "metadata": {
    "scrolled": true
   },
   "outputs": [
    {
     "name": "stdout",
     "output_type": "stream",
     "text": [
      "aba\n",
      "4\n"
     ]
    }
   ],
   "source": [
    "s=input()\n",
    "sum=0\n",
    "for i in s:\n",
    "    sum=sum+ord(i)-96\n",
    "print(sum)"
   ]
  },
  {
   "cell_type": "code",
   "execution_count": 63,
   "metadata": {
    "scrolled": true
   },
   "outputs": [
    {
     "name": "stdout",
     "output_type": "stream",
     "text": [
      "2\n",
      "*    *\n",
      "*    *\n",
      "******\n",
      "*    *\n",
      "*    *\n",
      "******\n",
      "*    *\n",
      "*    *\n"
     ]
    }
   ],
   "source": [
    "n=int(input())\n",
    "for i in range(n):\n",
    "    print(\"*    *\")\n",
    "    print(\"*    *\")\n",
    "    print(\"******\")\n",
    "print(\"*    *\")\n",
    "print(\"*    *\")"
   ]
  },
  {
   "cell_type": "code",
   "execution_count": 64,
   "metadata": {},
   "outputs": [
    {
     "name": "stdout",
     "output_type": "stream",
     "text": [
      "5\n",
      "120\n"
     ]
    }
   ],
   "source": [
    "#factorial\n",
    "n=int(input())\n",
    "fact=1\n",
    "for i in range(1,n+1):\n",
    "    fact=fact*i\n",
    "print(fact)"
   ]
  },
  {
   "cell_type": "code",
   "execution_count": 71,
   "metadata": {},
   "outputs": [
    {
     "name": "stdout",
     "output_type": "stream",
     "text": [
      "1\n",
      "10\n",
      "5.5\n"
     ]
    }
   ],
   "source": [
    "#average\n",
    "lb=int(input())\n",
    "ub=int(input())\n",
    "s=0\n",
    "for i in range(lb,ub+1):\n",
    "    s=s+i\n",
    "print(s/(ub-lb+1))  "
   ]
  },
  {
   "cell_type": "code",
   "execution_count": 73,
   "metadata": {},
   "outputs": [
    {
     "name": "stdout",
     "output_type": "stream",
     "text": [
      "Enter a tablenumber:5\n",
      "Enter a multiples:20\n",
      "5 * 1 = 5\n",
      "5 * 2 = 10\n",
      "5 * 3 = 15\n",
      "5 * 4 = 20\n",
      "5 * 5 = 25\n",
      "5 * 6 = 30\n",
      "5 * 7 = 35\n",
      "5 * 8 = 40\n",
      "5 * 9 = 45\n",
      "5 * 10 = 50\n",
      "5 * 11 = 55\n",
      "5 * 12 = 60\n",
      "5 * 13 = 65\n",
      "5 * 14 = 70\n",
      "5 * 15 = 75\n",
      "5 * 16 = 80\n",
      "5 * 17 = 85\n",
      "5 * 18 = 90\n",
      "5 * 19 = 95\n",
      "5 * 20 = 100\n"
     ]
    }
   ],
   "source": [
    "n= int(input(\"Enter a tablenumber:\"))\n",
    "m= int(input(\"Enter a multiples:\"))\n",
    "for i in range(1,m+1):\n",
    "    print(n,\"*\",i,\"=\",i*n)"
   ]
  },
  {
   "cell_type": "code",
   "execution_count": 84,
   "metadata": {},
   "outputs": [
    {
     "name": "stdout",
     "output_type": "stream",
     "text": [
      "Enter a tables:5\n",
      "Enter a multiples:5\n",
      "1 * 1 = 1\t 1 * 2 = 2\t 1 * 3 = 3\t 1 * 4 = 4\t 1 * 5 = 5\t \n",
      "\n",
      "2 * 1 = 2\t 2 * 2 = 4\t 2 * 3 = 6\t 2 * 4 = 8\t 2 * 5 = 10\t \n",
      "\n",
      "3 * 1 = 3\t 3 * 2 = 6\t 3 * 3 = 9\t 3 * 4 = 12\t 3 * 5 = 15\t \n",
      "\n",
      "4 * 1 = 4\t 4 * 2 = 8\t 4 * 3 = 12\t 4 * 4 = 16\t 4 * 5 = 20\t \n",
      "\n",
      "5 * 1 = 5\t 5 * 2 = 10\t 5 * 3 = 15\t 5 * 4 = 20\t 5 * 5 = 25\t \n",
      "\n"
     ]
    }
   ],
   "source": [
    "n= int(input(\"Enter a tables:\"))\n",
    "m= int(input(\"Enter a multiples:\"))\n",
    "for i in range(1,n+1):\n",
    "    for s in range(1,m+1):\n",
    "        print(i,\"*\",s,\"=\",i*s,end=\"\\t \")\n",
    "    print('\\n')"
   ]
  },
  {
   "cell_type": "code",
   "execution_count": 61,
   "metadata": {},
   "outputs": [
    {
     "name": "stdout",
     "output_type": "stream",
     "text": [
      "Enter lower range: 1\n",
      "Enter upper range: 10\n",
      "2\n",
      "3\n",
      "5\n",
      "7\n"
     ]
    }
   ],
   "source": [
    "# primenumber:\n",
    "#A positive integer greater than 1 which has no other factors except 1 and the number itself is called a prime number.\n",
    "lower= int(input(\"Enter lower range: \"))\n",
    "upper = int(input(\"Enter upper range: \"))\n",
    " \n",
    "for n in range(lower,upper + 1):\n",
    "   # prime numbers are greater than 1\n",
    "   if n > 1:\n",
    "        for i in range(2,n):\n",
    "            if (n % i) == 0:\n",
    "                break\n",
    "        else:\n",
    "            print(n)"
   ]
  },
  {
   "cell_type": "code",
   "execution_count": null,
   "metadata": {},
   "outputs": [],
   "source": [
    "#while loop:\n",
    "- The while loop is to be used in the scenario where we don't know the number of iterations\n",
    "  in advance.\n",
    "- The block of statements is executed in the while loop until the condition specified in the\n",
    "  while loop is satisfied. - It is also called a pre-tested loop."
   ]
  },
  {
   "cell_type": "code",
   "execution_count": 39,
   "metadata": {},
   "outputs": [
    {
     "name": "stdout",
     "output_type": "stream",
     "text": [
      "Thank you\n",
      "Thank you\n",
      "Thank you\n"
     ]
    }
   ],
   "source": [
    "number = 2  \n",
    "while number < 5 :  \n",
    "    print(\"Thank you\")\n",
    "    number = number+1"
   ]
  },
  {
   "cell_type": "code",
   "execution_count": 40,
   "metadata": {},
   "outputs": [
    {
     "name": "stdout",
     "output_type": "stream",
     "text": [
      "The number 2 is even\n",
      "The number 3 is odd\n",
      "The number 4 is even\n"
     ]
    }
   ],
   "source": [
    "number = 2 \n",
    "while number < 5 :  \n",
    "    # Find the mod of 2\n",
    "    if number%2 == 0:  \n",
    "        print(\"The number \"+str(number)+\" is even\")\n",
    "    else:\n",
    "        print(\"The number \"+str(number)+\" is odd\")\n",
    "    number = number+1"
   ]
  },
  {
   "cell_type": "code",
   "execution_count": null,
   "metadata": {},
   "outputs": [],
   "source": []
  },
  {
   "cell_type": "code",
   "execution_count": null,
   "metadata": {},
   "outputs": [],
   "source": [
    "#Nested For Loops In Python\n",
    "- When one Loop defined within another Loop is called Nested Loops.\n",
    "#Syntax of Nested For Loops\n",
    "for val in sequence:\n",
    "    for val in sequence:\n",
    "        statements\n",
    "statements"
   ]
  },
  {
   "cell_type": "code",
   "execution_count": 34,
   "metadata": {},
   "outputs": [
    {
     "name": "stdout",
     "output_type": "stream",
     "text": [
      "1 \n",
      "2 2 \n",
      "3 3 3 \n",
      "4 4 4 4 \n",
      "5 5 5 5 5 \n"
     ]
    }
   ],
   "source": [
    "for i in range(1,6):\n",
    "    for j in range(0,i):\n",
    "        print(i, end=\" \")\n",
    "    print('')"
   ]
  },
  {
   "cell_type": "code",
   "execution_count": 35,
   "metadata": {},
   "outputs": [
    {
     "name": "stdout",
     "output_type": "stream",
     "text": [
      "1 1 1 1 1 \n",
      "2 2 2 2 \n",
      "3 3 3 \n",
      "4 4 \n",
      "5 \n"
     ]
    }
   ],
   "source": [
    "for i in range(1,6):\n",
    "    for j in range(5,i-1,-1):\n",
    "        print(i, end=\" \")\n",
    "    print('')"
   ]
  },
  {
   "cell_type": "code",
   "execution_count": 56,
   "metadata": {},
   "outputs": [
    {
     "name": "stdout",
     "output_type": "stream",
     "text": [
      "*  \n",
      "* *  \n",
      "* * *  \n",
      "* * * *  \n",
      "* * * * *  \n",
      "* * * *  \n",
      "* * *  \n",
      "* *  \n",
      "*  \n",
      " \n"
     ]
    }
   ],
   "source": [
    "rows = 5\n",
    "for i in range(0, rows):\n",
    "    for j in range(0, i + 1):\n",
    "        print(\"*\", end=' ')\n",
    "    print(\" \")\n",
    "\n",
    "for i in range(rows, 0, -1):\n",
    "    for j in range(0, i - 1):\n",
    "        print(\"*\", end=' ')\n",
    "    print(\" \")"
   ]
  },
  {
   "cell_type": "code",
   "execution_count": 54,
   "metadata": {},
   "outputs": [
    {
     "name": "stdout",
     "output_type": "stream",
     "text": [
      "* * * * * * * * * * \n",
      "\n",
      "* * * *     * * * * \n",
      "\n",
      "* * *         * * * \n",
      "\n",
      "* *             * * \n",
      "\n",
      "*                 * \n",
      "\n",
      "                    \n",
      "\n"
     ]
    }
   ],
   "source": [
    "rows = 6\n",
    "for i in range(0, rows):\n",
    "    for j in range(rows - 1, i, -1):\n",
    "        print('*', '', end='')\n",
    "    for l in range(i):\n",
    "        print('    ', end='')\n",
    "    for k in range(i + 1, rows):\n",
    "        print('*', '', end='')\n",
    "    print('\\n')"
   ]
  },
  {
   "cell_type": "code",
   "execution_count": 57,
   "metadata": {},
   "outputs": [
    {
     "name": "stdout",
     "output_type": "stream",
     "text": [
      "        * * * * * * \n",
      "         * * * * * \n",
      "          * * * * \n",
      "           * * * \n",
      "            * * \n",
      "             * \n"
     ]
    }
   ],
   "source": [
    "rows = 5\n",
    "k = 2 * rows - 2\n",
    "for i in range(rows, -1, -1):\n",
    "    for j in range(k, 0, -1):\n",
    "        print(end=\" \")\n",
    "    k = k + 1\n",
    "    for j in range(0, i + 1):\n",
    "        print(\"*\", end=\" \")\n",
    "    print(\"\")"
   ]
  },
  {
   "cell_type": "markdown",
   "metadata": {},
   "source": [
    "# Jump Statements"
   ]
  },
  {
   "cell_type": "code",
   "execution_count": null,
   "metadata": {},
   "outputs": [],
   "source": [
    "Python 3 Jump Statements (break, continue and pass)\n",
    "- Jump statements in python are used to alter the flow of a loop like you want to skip a part \n",
    "  of a loop or terminate a loop.\n",
    "\n",
    "#Type of Jump Statements in Python:-\n",
    "1. break\n",
    "2. continue\n",
    "3. pass"
   ]
  },
  {
   "cell_type": "code",
   "execution_count": null,
   "metadata": {},
   "outputs": [],
   "source": [
    "- Loop control statements change execution from its normal sequence. When execution leaves\n",
    "  a scope, all automatic objects that were created in that scope are destroyed.\n",
    "- Python supports the following control statements. Click the following links to check their detail.\n",
    "1.break \n",
    "2.continue\n",
    "3.pass"
   ]
  },
  {
   "cell_type": "code",
   "execution_count": null,
   "metadata": {},
   "outputs": [],
   "source": [
    "#break statement\n",
    "- Terminates the loop statement and transfers execution to the statement immediately\n",
    "  following the loop.\n",
    "- It terminates the current loop and resumes execution at the next statement, just like the\n",
    "  traditional break statement in C.\n",
    "- The most common use for break is when some external condition is triggered requiring a hasty\n",
    "  exit from a loop. The break statement can be used in both while and for loops.\n",
    "- If you are using nested loops, the break statement stops the execution of the innermost loop\n",
    "  and start executing the next line of code after the block."
   ]
  },
  {
   "cell_type": "code",
   "execution_count": 26,
   "metadata": {},
   "outputs": [
    {
     "name": "stdout",
     "output_type": "stream",
     "text": [
      "Current Letter : P\n",
      "Current Letter : y\n",
      "Current Letter : t\n"
     ]
    }
   ],
   "source": [
    "for letter in 'Python':     \n",
    "    if letter == 'h':\n",
    "        break\n",
    "    print('Current Letter :', letter)"
   ]
  },
  {
   "cell_type": "code",
   "execution_count": 28,
   "metadata": {},
   "outputs": [
    {
     "name": "stdout",
     "output_type": "stream",
     "text": [
      "Current variable value : 10\n",
      "Current variable value : 9\n",
      "Current variable value : 8\n",
      "Current variable value : 7\n",
      "Current variable value : 6\n",
      "Good bye!\n"
     ]
    }
   ],
   "source": [
    "var = 10                    \n",
    "while var > 0:              \n",
    "    print('Current variable value :', var)\n",
    "    var = var -1\n",
    "    if var == 5:\n",
    "        break\n",
    "\n",
    "print(\"Good bye!\")"
   ]
  },
  {
   "cell_type": "code",
   "execution_count": null,
   "metadata": {},
   "outputs": [],
   "source": [
    "#continue statement\n",
    "- Causes the loop to skip the remainder of its body and immediately retest its condition prior\n",
    "  to reiterating.\n",
    "- It returns the control to the beginning of the while loop.. The continue statement rejects\n",
    "  all the remaining statements in the current iteration of the loop and moves the control back to\n",
    "  the top of the loop.\n",
    "- The continue statement can be used in both while and for loops."
   ]
  },
  {
   "cell_type": "code",
   "execution_count": 29,
   "metadata": {},
   "outputs": [
    {
     "name": "stdout",
     "output_type": "stream",
     "text": [
      "Current Letter : P\n",
      "Current Letter : y\n",
      "Current Letter : t\n",
      "Current Letter : o\n",
      "Current Letter : n\n"
     ]
    }
   ],
   "source": [
    "for letter in 'Python':     \n",
    "    if letter == 'h':\n",
    "        continue\n",
    "    print('Current Letter :', letter)"
   ]
  },
  {
   "cell_type": "code",
   "execution_count": 31,
   "metadata": {},
   "outputs": [
    {
     "name": "stdout",
     "output_type": "stream",
     "text": [
      "Current variable value : 9\n",
      "Current variable value : 8\n",
      "Current variable value : 7\n",
      "Current variable value : 6\n",
      "Current variable value : 4\n",
      "Current variable value : 3\n",
      "Current variable value : 2\n",
      "Current variable value : 1\n",
      "Current variable value : 0\n",
      "Good bye!\n"
     ]
    }
   ],
   "source": [
    "var = 10                    \n",
    "while var > 0:              \n",
    "    var = var -1\n",
    "    if var == 5:\n",
    "        continue\n",
    "    print('Current variable value :', var)\n",
    "print(\"Good bye!\")"
   ]
  },
  {
   "cell_type": "code",
   "execution_count": null,
   "metadata": {},
   "outputs": [],
   "source": [
    "#pass statement\n",
    "- The pass statement in Python is used when a statement is required syntactically but you\n",
    "  do not want any command or code to execute.\n",
    "- It is used when a statement is required syntactically but you do not want any command or code\n",
    "  to execute.\n",
    "- The pass statement is a null operation; nothing happens when it executes. The pass is also\n",
    "  useful in places where your code will eventually go, but has not been written yet \n",
    "  (e.g., in stubs for example) −"
   ]
  },
  {
   "cell_type": "code",
   "execution_count": 33,
   "metadata": {},
   "outputs": [
    {
     "name": "stdout",
     "output_type": "stream",
     "text": [
      "Current Letter : P\n",
      "Current Letter : y\n",
      "Current Letter : t\n",
      "This is pass block\n",
      "Current Letter : h\n",
      "Current Letter : o\n",
      "Current Letter : n\n",
      "Good bye!\n"
     ]
    }
   ],
   "source": [
    "for letter in 'Python': \n",
    "    if letter == 'h':\n",
    "        pass\n",
    "        print('This is pass block')\n",
    "    print('Current Letter :', letter)\n",
    "\n",
    "print(\"Good bye!\")\n",
    "  "
   ]
  },
  {
   "cell_type": "code",
   "execution_count": null,
   "metadata": {},
   "outputs": [],
   "source": []
  }
 ],
 "metadata": {
  "kernelspec": {
   "display_name": "Python 3",
   "language": "python",
   "name": "python3"
  },
  "language_info": {
   "codemirror_mode": {
    "name": "ipython",
    "version": 3
   },
   "file_extension": ".py",
   "mimetype": "text/x-python",
   "name": "python",
   "nbconvert_exporter": "python",
   "pygments_lexer": "ipython3",
   "version": "3.7.3"
  }
 },
 "nbformat": 4,
 "nbformat_minor": 2
}
