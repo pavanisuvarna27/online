{
 "cells": [
  {
   "cell_type": "code",
   "execution_count": null,
   "metadata": {},
   "outputs": [],
   "source": [
    "- Python is an object oriented programming language.\n",
    "- Because of the use of classes and objects, the programming became easy to understand and code.\n",
    "- It allows us to develop applications using an Object Oriented approach.\n",
    "- In Python, we can easily create and use classes and objects.\n",
    "- in oops using classes and objects ,we create programs\n",
    "- Major principles of object-oriented programming system are given below.\n",
    "\n",
    "1.Object\n",
    "2.Class\n",
    "3.constructors\n",
    "4.Inheritance"
   ]
  },
  {
   "cell_type": "code",
   "execution_count": null,
   "metadata": {},
   "outputs": [],
   "source": [
    "#class:\n",
    "- collection of objects(blueprint)\n",
    "- class----->is a design(blueprint)"
   ]
  },
  {
   "cell_type": "markdown",
   "metadata": {},
   "source": [
    "### class\n",
    "- collection of variables and methods\n",
    "######function: is a collection of statements\n",
    "######method:if function is existed inside the class then it called as method\n",
    "- 'class' is a keyword for creating class structure\n",
    "- without object  we can get values and funcions\n",
    "###### syn:\n",
    "class class_name():\n",
    "    list of vars\n",
    "    list of methods\n",
    "    \n",
    "    # class --->keyword\n",
    "    #class_name--->name of the class\n",
    "    \n",
    "class bestmobile(object):\n"
   ]
  },
  {
   "cell_type": "code",
   "execution_count": null,
   "metadata": {},
   "outputs": [],
   "source": [
    "* class and objects are interrelated with each other.\n",
    "* object vndhi ante confirm ga class vntundhi aa object ki,\n",
    "* class vndhi but object ldu ante ,aa class ki asalu meaning ee vndadhu"
   ]
  },
  {
   "cell_type": "code",
   "execution_count": 2,
   "metadata": {},
   "outputs": [],
   "source": [
    "class hii():\n",
    "    name=\"django\"\n",
    "    rollno=27\n",
    "    def hello():\n",
    "        print(\"welcome all\")"
   ]
  },
  {
   "cell_type": "code",
   "execution_count": 3,
   "metadata": {},
   "outputs": [
    {
     "data": {
      "text/plain": [
       "'django'"
      ]
     },
     "execution_count": 3,
     "metadata": {},
     "output_type": "execute_result"
    }
   ],
   "source": [
    "hii.name   #'.' is a massage calling operator ,hii is a class name"
   ]
  },
  {
   "cell_type": "code",
   "execution_count": 4,
   "metadata": {},
   "outputs": [
    {
     "data": {
      "text/plain": [
       "27"
      ]
     },
     "execution_count": 4,
     "metadata": {},
     "output_type": "execute_result"
    }
   ],
   "source": [
    "hii.rollno"
   ]
  },
  {
   "cell_type": "code",
   "execution_count": 5,
   "metadata": {},
   "outputs": [
    {
     "name": "stdout",
     "output_type": "stream",
     "text": [
      "welcome all\n"
     ]
    }
   ],
   "source": [
    "hii.hello()"
   ]
  },
  {
   "cell_type": "code",
   "execution_count": null,
   "metadata": {},
   "outputs": [],
   "source": [
    "#object:\n",
    "- every object will have certain attributes and behaviour.\n",
    " (height,name->attributes-->variables\n",
    " dancing,talking->behaviour)--->methods\n",
    "- object---->is a instance of a class(sample copy of a class )"
   ]
  },
  {
   "cell_type": "markdown",
   "metadata": {},
   "source": [
    "### object\n",
    "- object is a instance of a class or object is a real time entity\n",
    "###### syn:\n",
    "obj_name = class_name\n",
    "*samsung=bestmobile()"
   ]
  },
  {
   "cell_type": "code",
   "execution_count": 6,
   "metadata": {},
   "outputs": [
    {
     "name": "stdout",
     "output_type": "stream",
     "text": [
      "<class '__main__.hii'>\n",
      "['__class__', '__delattr__', '__dict__', '__dir__', '__doc__', '__eq__', '__format__', '__ge__', '__getattribute__', '__gt__', '__hash__', '__init__', '__init_subclass__', '__le__', '__lt__', '__module__', '__ne__', '__new__', '__reduce__', '__reduce_ex__', '__repr__', '__setattr__', '__sizeof__', '__str__', '__subclasshook__', '__weakref__', 'hello', 'name', 'rollno']\n",
      "django\n",
      "27\n",
      "welcome all\n"
     ]
    }
   ],
   "source": [
    "obj=hii\n",
    "print(obj)\n",
    "print(dir(obj))\n",
    "print(obj.name)\n",
    "print(obj.rollno)\n",
    "obj.hello()"
   ]
  },
  {
   "cell_type": "code",
   "execution_count": 7,
   "metadata": {},
   "outputs": [],
   "source": [
    "class hii:\n",
    "    name=\"django\"\n",
    "    rollno=27\n",
    "    def hello():\n",
    "        print(\"welcome all\")"
   ]
  },
  {
   "cell_type": "code",
   "execution_count": 8,
   "metadata": {},
   "outputs": [
    {
     "name": "stdout",
     "output_type": "stream",
     "text": [
      "welcome all\n"
     ]
    }
   ],
   "source": [
    "obj1=hii\n",
    "obj1.hello()"
   ]
  },
  {
   "cell_type": "markdown",
   "metadata": {},
   "source": [
    "#### function:\n",
    "- if we define function is existed\n",
    "\n",
    "#### method:\n",
    "- inside class then i will call that one as method"
   ]
  },
  {
   "cell_type": "code",
   "execution_count": 14,
   "metadata": {},
   "outputs": [],
   "source": [
    "class calsi:\n",
    "    def add(n1,n2):\n",
    "        return n1+n2\n",
    "    def sub(n1,n2):\n",
    "        return n1-n2\n",
    "    def mul(n1,n2):\n",
    "        return n1*n2\n",
    "    def mod(n1,n2):\n",
    "        return n1%n2"
   ]
  },
  {
   "cell_type": "code",
   "execution_count": 17,
   "metadata": {},
   "outputs": [
    {
     "name": "stdout",
     "output_type": "stream",
     "text": [
      "124\n",
      "-56\n",
      "3060\n",
      "34\n"
     ]
    }
   ],
   "source": [
    "cal=calsi\n",
    "print(cal.add(34,90))\n",
    "print(cal.sub(34,90))\n",
    "print(cal.mul(34,90))\n",
    "print(cal.mod(34,90))"
   ]
  },
  {
   "cell_type": "markdown",
   "metadata": {},
   "source": [
    "#### constructors\n",
    "-A constructor is a special type of method (function) which is used to initialize the instance members of the class.\n",
    "- without object we can call method(while creating object it will call that function)\n",
    "- in python for creating constructor we will use __init__(self)\n",
    "- in constructor self parameter finds the current reference object\n",
    "- in calsi class i have only display() method\n",
    "###### syn:\n",
    "class className:\n",
    "    def__init__(self): #it is constructor\n",
    "    def__init__(self,a,b)\n",
    "    def__init__(a,b,self)"
   ]
  },
  {
   "cell_type": "code",
   "execution_count": 12,
   "metadata": {},
   "outputs": [],
   "source": [
    "class calsi():\n",
    "    def __init__(self,n1,n2,n3):\n",
    "        self.n1=n1\n",
    "        self.n2=n2\n",
    "        self.n3=n3\n",
    "    def display(self):\n",
    "        print(self.n1)\n",
    "        print(self.n2)\n",
    "        print(self.n1,self.n3)"
   ]
  },
  {
   "cell_type": "code",
   "execution_count": 13,
   "metadata": {},
   "outputs": [
    {
     "name": "stdout",
     "output_type": "stream",
     "text": [
      "5\n",
      "4\n",
      "5 9\n"
     ]
    }
   ],
   "source": [
    "cl=calsi(5,4,9)\n",
    "cl.display()"
   ]
  },
  {
   "cell_type": "code",
   "execution_count": 14,
   "metadata": {},
   "outputs": [
    {
     "name": "stdout",
     "output_type": "stream",
     "text": [
      "4\n",
      "7\n",
      "4 8\n"
     ]
    }
   ],
   "source": [
    "cl1=calsi(4,7,8)\n",
    "cl1.display()"
   ]
  },
  {
   "cell_type": "code",
   "execution_count": 15,
   "metadata": {},
   "outputs": [
    {
     "ename": "TypeError",
     "evalue": "__init__() missing 3 required positional arguments: 'n1', 'n2', and 'n3'",
     "output_type": "error",
     "traceback": [
      "\u001b[1;31m---------------------------------------------------------------------------\u001b[0m",
      "\u001b[1;31mTypeError\u001b[0m                                 Traceback (most recent call last)",
      "\u001b[1;32m<ipython-input-15-1f961510a58b>\u001b[0m in \u001b[0;36m<module>\u001b[1;34m\u001b[0m\n\u001b[1;32m----> 1\u001b[1;33m \u001b[0mcl1\u001b[0m\u001b[1;33m=\u001b[0m\u001b[0mcalsi\u001b[0m\u001b[1;33m(\u001b[0m\u001b[1;33m)\u001b[0m\u001b[1;33m\u001b[0m\u001b[1;33m\u001b[0m\u001b[0m\n\u001b[0m\u001b[0;32m      2\u001b[0m \u001b[0mcl1\u001b[0m\u001b[1;33m.\u001b[0m\u001b[0mdisplay\u001b[0m\u001b[1;33m(\u001b[0m\u001b[1;33m)\u001b[0m\u001b[1;33m\u001b[0m\u001b[1;33m\u001b[0m\u001b[0m\n",
      "\u001b[1;31mTypeError\u001b[0m: __init__() missing 3 required positional arguments: 'n1', 'n2', and 'n3'"
     ]
    }
   ],
   "source": [
    "cl1=calsi()\n",
    "cl1.display()"
   ]
  },
  {
   "cell_type": "code",
   "execution_count": 16,
   "metadata": {},
   "outputs": [
    {
     "name": "stdout",
     "output_type": "stream",
     "text": [
      "23\n",
      "78\n",
      "23 90\n"
     ]
    }
   ],
   "source": [
    "cl1=calsi(23,78,90)\n",
    "cl1.display()"
   ]
  },
  {
   "cell_type": "code",
   "execution_count": 18,
   "metadata": {},
   "outputs": [],
   "source": [
    "class calsi():\n",
    "    '''\n",
    "    in calsi class i have only display() method\n",
    "    '''\n",
    "    def __init__(self,n1,n2,n3):\n",
    "        self.n1=n1\n",
    "        self.n2=n2\n",
    "        self.n3=n3\n",
    "    def display(self):\n",
    "        print(self.n1)\n",
    "        print(self.n2)\n",
    "        print(self.n1,self.n3)"
   ]
  },
  {
   "cell_type": "code",
   "execution_count": 19,
   "metadata": {},
   "outputs": [
    {
     "data": {
      "text/plain": [
       "'\\n    in calsi class i have only display() method\\n    '"
      ]
     },
     "execution_count": 19,
     "metadata": {},
     "output_type": "execute_result"
    }
   ],
   "source": [
    "cl2=calsi(23,56,12)\n",
    "cl2.__doc__   #__doc__ is a attribute"
   ]
  },
  {
   "cell_type": "code",
   "execution_count": 20,
   "metadata": {},
   "outputs": [],
   "source": [
    "class calsi():\n",
    "    def __init__(self,n1,n2,n3):\n",
    "        self.n1=n1\n",
    "        self.n2=n2\n",
    "        self.n3=n3\n",
    "        '''\n",
    "        in calsi class i have only display() method\n",
    "        '''\n",
    "    def display(self):\n",
    "        print(self.n1)\n",
    "        print(self.n2)\n",
    "        print(self.n1,self.n3)"
   ]
  },
  {
   "cell_type": "code",
   "execution_count": 21,
   "metadata": {},
   "outputs": [],
   "source": [
    "cl2=calsi(23,56,12)\n",
    "cl2.__doc__   #__doc__ is a attribute"
   ]
  },
  {
   "cell_type": "code",
   "execution_count": 4,
   "metadata": {},
   "outputs": [],
   "source": [
    "class Math:\n",
    "    def __init__(self,n1,n2):\n",
    "        self.n1=n1\n",
    "        self.n2=n2\n",
    "        print(n1,n2)\n",
    "        print(\"iam calling without using object\")"
   ]
  },
  {
   "cell_type": "code",
   "execution_count": 5,
   "metadata": {},
   "outputs": [
    {
     "name": "stdout",
     "output_type": "stream",
     "text": [
      "5 15\n",
      "iam calling without using object\n"
     ]
    }
   ],
   "source": [
    "onj=Math(5,15)"
   ]
  },
  {
   "cell_type": "code",
   "execution_count": 6,
   "metadata": {},
   "outputs": [
    {
     "ename": "TypeError",
     "evalue": "__init__() missing 2 required positional arguments: 'n1' and 'n2'",
     "output_type": "error",
     "traceback": [
      "\u001b[1;31m---------------------------------------------------------------------------\u001b[0m",
      "\u001b[1;31mTypeError\u001b[0m                                 Traceback (most recent call last)",
      "\u001b[1;32m<ipython-input-6-e906db6788e1>\u001b[0m in \u001b[0;36m<module>\u001b[1;34m\u001b[0m\n\u001b[1;32m----> 1\u001b[1;33m \u001b[0mob\u001b[0m\u001b[1;33m=\u001b[0m\u001b[0mMath\u001b[0m\u001b[1;33m(\u001b[0m\u001b[1;33m)\u001b[0m\u001b[1;33m\u001b[0m\u001b[1;33m\u001b[0m\u001b[0m\n\u001b[0m",
      "\u001b[1;31mTypeError\u001b[0m: __init__() missing 2 required positional arguments: 'n1' and 'n2'"
     ]
    }
   ],
   "source": [
    "ob=Math()"
   ]
  },
  {
   "cell_type": "code",
   "execution_count": 12,
   "metadata": {},
   "outputs": [],
   "source": [
    "class Math1:\n",
    "    def __mymath__(self):\n",
    "        print(\"hello\")"
   ]
  },
  {
   "cell_type": "code",
   "execution_count": 13,
   "metadata": {},
   "outputs": [],
   "source": [
    "ob=Math1()"
   ]
  },
  {
   "cell_type": "code",
   "execution_count": 14,
   "metadata": {},
   "outputs": [
    {
     "name": "stdout",
     "output_type": "stream",
     "text": [
      "hello\n"
     ]
    }
   ],
   "source": [
    "ob.__mymath__()"
   ]
  },
  {
   "cell_type": "code",
   "execution_count": null,
   "metadata": {},
   "outputs": [],
   "source": []
  },
  {
   "cell_type": "code",
   "execution_count": 17,
   "metadata": {},
   "outputs": [],
   "source": [
    "class Math2:\n",
    "    def __mymath1__():# without self there is no constructor\n",
    "        print(\"hello\")"
   ]
  },
  {
   "cell_type": "code",
   "execution_count": 18,
   "metadata": {},
   "outputs": [],
   "source": [
    "ob=Math2()"
   ]
  },
  {
   "cell_type": "code",
   "execution_count": 19,
   "metadata": {},
   "outputs": [
    {
     "ename": "TypeError",
     "evalue": "__mymath1__() takes 0 positional arguments but 1 was given",
     "output_type": "error",
     "traceback": [
      "\u001b[1;31m---------------------------------------------------------------------------\u001b[0m",
      "\u001b[1;31mTypeError\u001b[0m                                 Traceback (most recent call last)",
      "\u001b[1;32m<ipython-input-19-3cb7e30635fa>\u001b[0m in \u001b[0;36m<module>\u001b[1;34m\u001b[0m\n\u001b[1;32m----> 1\u001b[1;33m \u001b[0mob\u001b[0m\u001b[1;33m.\u001b[0m\u001b[0m__mymath1__\u001b[0m\u001b[1;33m(\u001b[0m\u001b[1;33m)\u001b[0m\u001b[1;33m\u001b[0m\u001b[1;33m\u001b[0m\u001b[0m\n\u001b[0m",
      "\u001b[1;31mTypeError\u001b[0m: __mymath1__() takes 0 positional arguments but 1 was given"
     ]
    }
   ],
   "source": [
    "ob.__mymath1__() #self is mandatory"
   ]
  },
  {
   "cell_type": "code",
   "execution_count": 20,
   "metadata": {},
   "outputs": [
    {
     "data": {
      "text/plain": [
       "<bound method Math2.__mymath1__ of <__main__.Math2 object at 0x0000023560DA1BA8>>"
      ]
     },
     "execution_count": 20,
     "metadata": {},
     "output_type": "execute_result"
    }
   ],
   "source": [
    "ob.__mymath1__"
   ]
  },
  {
   "cell_type": "code",
   "execution_count": null,
   "metadata": {},
   "outputs": [],
   "source": []
  },
  {
   "cell_type": "code",
   "execution_count": 36,
   "metadata": {},
   "outputs": [],
   "source": [
    "class Math3:\n",
    "    def __init__(abc,v1,v2):\n",
    "        abc.v1=v1\n",
    "        abc.v2=v2\n",
    "    def show(abc):\n",
    "        print(abc.v1)\n",
    "        print(v2)\n",
    "    def add(abc):\n",
    "        print(abc.v1+abc.v2)\n",
    "        print(v1+v2) "
   ]
  },
  {
   "cell_type": "code",
   "execution_count": 37,
   "metadata": {},
   "outputs": [],
   "source": [
    "obj1=Math3(2,5)"
   ]
  },
  {
   "cell_type": "code",
   "execution_count": 38,
   "metadata": {
    "scrolled": true
   },
   "outputs": [
    {
     "name": "stdout",
     "output_type": "stream",
     "text": [
      "2\n"
     ]
    },
    {
     "ename": "NameError",
     "evalue": "name 'v2' is not defined",
     "output_type": "error",
     "traceback": [
      "\u001b[1;31m---------------------------------------------------------------------------\u001b[0m",
      "\u001b[1;31mNameError\u001b[0m                                 Traceback (most recent call last)",
      "\u001b[1;32m<ipython-input-38-e8e3bf44759c>\u001b[0m in \u001b[0;36m<module>\u001b[1;34m\u001b[0m\n\u001b[1;32m----> 1\u001b[1;33m \u001b[0mobj1\u001b[0m\u001b[1;33m.\u001b[0m\u001b[0mshow\u001b[0m\u001b[1;33m(\u001b[0m\u001b[1;33m)\u001b[0m\u001b[1;33m\u001b[0m\u001b[1;33m\u001b[0m\u001b[0m\n\u001b[0m",
      "\u001b[1;32m<ipython-input-36-9ee1950675ae>\u001b[0m in \u001b[0;36mshow\u001b[1;34m(abc)\u001b[0m\n\u001b[0;32m      5\u001b[0m     \u001b[1;32mdef\u001b[0m \u001b[0mshow\u001b[0m\u001b[1;33m(\u001b[0m\u001b[0mabc\u001b[0m\u001b[1;33m)\u001b[0m\u001b[1;33m:\u001b[0m\u001b[1;33m\u001b[0m\u001b[1;33m\u001b[0m\u001b[0m\n\u001b[0;32m      6\u001b[0m         \u001b[0mprint\u001b[0m\u001b[1;33m(\u001b[0m\u001b[0mabc\u001b[0m\u001b[1;33m.\u001b[0m\u001b[0mv1\u001b[0m\u001b[1;33m)\u001b[0m\u001b[1;33m\u001b[0m\u001b[1;33m\u001b[0m\u001b[0m\n\u001b[1;32m----> 7\u001b[1;33m         \u001b[0mprint\u001b[0m\u001b[1;33m(\u001b[0m\u001b[0mv2\u001b[0m\u001b[1;33m)\u001b[0m\u001b[1;33m\u001b[0m\u001b[1;33m\u001b[0m\u001b[0m\n\u001b[0m\u001b[0;32m      8\u001b[0m     \u001b[1;32mdef\u001b[0m \u001b[0madd\u001b[0m\u001b[1;33m(\u001b[0m\u001b[0mabc\u001b[0m\u001b[1;33m)\u001b[0m\u001b[1;33m:\u001b[0m\u001b[1;33m\u001b[0m\u001b[1;33m\u001b[0m\u001b[0m\n\u001b[0;32m      9\u001b[0m         \u001b[0mprint\u001b[0m\u001b[1;33m(\u001b[0m\u001b[0mabc\u001b[0m\u001b[1;33m.\u001b[0m\u001b[0mv1\u001b[0m\u001b[1;33m+\u001b[0m\u001b[0mabc\u001b[0m\u001b[1;33m.\u001b[0m\u001b[0mv2\u001b[0m\u001b[1;33m)\u001b[0m\u001b[1;33m\u001b[0m\u001b[1;33m\u001b[0m\u001b[0m\n",
      "\u001b[1;31mNameError\u001b[0m: name 'v2' is not defined"
     ]
    }
   ],
   "source": [
    "obj1.show()"
   ]
  },
  {
   "cell_type": "code",
   "execution_count": 39,
   "metadata": {},
   "outputs": [
    {
     "name": "stdout",
     "output_type": "stream",
     "text": [
      "7\n"
     ]
    },
    {
     "ename": "NameError",
     "evalue": "name 'v1' is not defined",
     "output_type": "error",
     "traceback": [
      "\u001b[1;31m---------------------------------------------------------------------------\u001b[0m",
      "\u001b[1;31mNameError\u001b[0m                                 Traceback (most recent call last)",
      "\u001b[1;32m<ipython-input-39-f7f1a2671e28>\u001b[0m in \u001b[0;36m<module>\u001b[1;34m\u001b[0m\n\u001b[1;32m----> 1\u001b[1;33m \u001b[0mobj1\u001b[0m\u001b[1;33m.\u001b[0m\u001b[0madd\u001b[0m\u001b[1;33m(\u001b[0m\u001b[1;33m)\u001b[0m\u001b[1;33m\u001b[0m\u001b[1;33m\u001b[0m\u001b[0m\n\u001b[0m",
      "\u001b[1;32m<ipython-input-36-9ee1950675ae>\u001b[0m in \u001b[0;36madd\u001b[1;34m(abc)\u001b[0m\n\u001b[0;32m      8\u001b[0m     \u001b[1;32mdef\u001b[0m \u001b[0madd\u001b[0m\u001b[1;33m(\u001b[0m\u001b[0mabc\u001b[0m\u001b[1;33m)\u001b[0m\u001b[1;33m:\u001b[0m\u001b[1;33m\u001b[0m\u001b[1;33m\u001b[0m\u001b[0m\n\u001b[0;32m      9\u001b[0m         \u001b[0mprint\u001b[0m\u001b[1;33m(\u001b[0m\u001b[0mabc\u001b[0m\u001b[1;33m.\u001b[0m\u001b[0mv1\u001b[0m\u001b[1;33m+\u001b[0m\u001b[0mabc\u001b[0m\u001b[1;33m.\u001b[0m\u001b[0mv2\u001b[0m\u001b[1;33m)\u001b[0m\u001b[1;33m\u001b[0m\u001b[1;33m\u001b[0m\u001b[0m\n\u001b[1;32m---> 10\u001b[1;33m         \u001b[0mprint\u001b[0m\u001b[1;33m(\u001b[0m\u001b[0mv1\u001b[0m\u001b[1;33m+\u001b[0m\u001b[0mv2\u001b[0m\u001b[1;33m)\u001b[0m\u001b[1;33m\u001b[0m\u001b[1;33m\u001b[0m\u001b[0m\n\u001b[0m",
      "\u001b[1;31mNameError\u001b[0m: name 'v1' is not defined"
     ]
    }
   ],
   "source": [
    "obj1.add()"
   ]
  },
  {
   "cell_type": "code",
   "execution_count": null,
   "metadata": {},
   "outputs": [],
   "source": []
  },
  {
   "cell_type": "code",
   "execution_count": 42,
   "metadata": {},
   "outputs": [],
   "source": [
    "class Math4:\n",
    "    def __init__(abc,v1,v2):\n",
    "        abc.v1=v1\n",
    "        abc.v2=v2\n",
    "    def show(abc):\n",
    "        print(abc.v1)\n",
    "        print(abc.v2)\n",
    "    def add(abc,v3):\n",
    "        print(abc.v1+abc.v2+v3) "
   ]
  },
  {
   "cell_type": "code",
   "execution_count": 43,
   "metadata": {},
   "outputs": [],
   "source": [
    "m=Math4(5,6)"
   ]
  },
  {
   "cell_type": "code",
   "execution_count": 44,
   "metadata": {},
   "outputs": [
    {
     "name": "stdout",
     "output_type": "stream",
     "text": [
      "21\n"
     ]
    }
   ],
   "source": [
    "m.add(10)"
   ]
  },
  {
   "cell_type": "code",
   "execution_count": null,
   "metadata": {},
   "outputs": [],
   "source": []
  },
  {
   "cell_type": "code",
   "execution_count": null,
   "metadata": {},
   "outputs": [],
   "source": [
    "#inheritance:\n",
    "-it specifies that the child object acquires all the properties and behaviors of the parent object.\n",
    "\n",
    "-By using inheritance,we can create a class which uses all the properties and behavior of another \n",
    "class. \n",
    "- The new class is known as a derived class or child class, \n",
    "- and the one whose properties are acquired is known as a base class or parent class.\n",
    "\n",
    "-It provides re-usability of the code.\n",
    "-we are trying to inheriting something from parent class to child class\n",
    "-general format is class childClass(parentClass):\n",
    "-singlelevel inhertance(one parent,one child)\n",
    "    ex:(A-->B)\n",
    "-multilevel (there is no fixed numbers of parents and childs)\n",
    "    ex:(grandfather--->father---->son)(A--->B--->C)\n",
    "-multiple (multiple parents,one child)\n",
    "    ex: father mother\n",
    "          |       |\n",
    "           -------\n",
    "              |\n",
    "             son)\n",
    "- Hierarchical(single parent multiple childs)\n",
    "- Hybrid Inheritance(all types of inheritances)\n",
    "    -Hybrid inheritance is a combination of multiple and multilevel inheritance. \n",
    "     ex:father mother\n",
    "              |\n",
    "        ------------\n",
    "    child(grandfather)\n",
    "           |      \n",
    "        child(father)\n",
    "            |\n",
    "        grandchild(son)\n",
    "             "
   ]
  },
  {
   "cell_type": "code",
   "execution_count": null,
   "metadata": {},
   "outputs": [],
   "source": []
  },
  {
   "cell_type": "code",
   "execution_count": null,
   "metadata": {},
   "outputs": [],
   "source": [
    "#single level inheritance"
   ]
  },
  {
   "cell_type": "code",
   "execution_count": 9,
   "metadata": {},
   "outputs": [],
   "source": [
    "class ClassA():#ClassA having 2 arguments -a,b\n",
    "    a,b=10,40\n",
    "    def display():\n",
    "        print(\"iam from class A\")\n",
    "class ClassB(ClassA):#ClassB having 4 arguments -a,b,c,d\n",
    "    c,d=23,54\n",
    "    def show():\n",
    "        print(\"iam from class B\")"
   ]
  },
  {
   "cell_type": "code",
   "execution_count": 10,
   "metadata": {},
   "outputs": [
    {
     "name": "stdout",
     "output_type": "stream",
     "text": [
      "10\n",
      "40\n",
      "iam from class A\n",
      "None\n"
     ]
    },
    {
     "ename": "AttributeError",
     "evalue": "type object 'ClassA' has no attribute 'show'",
     "output_type": "error",
     "traceback": [
      "\u001b[1;31m---------------------------------------------------------------------------\u001b[0m",
      "\u001b[1;31mAttributeError\u001b[0m                            Traceback (most recent call last)",
      "\u001b[1;32m<ipython-input-10-dafc1043b376>\u001b[0m in \u001b[0;36m<module>\u001b[1;34m\u001b[0m\n\u001b[0;32m      3\u001b[0m \u001b[0mprint\u001b[0m\u001b[1;33m(\u001b[0m\u001b[0mobj\u001b[0m\u001b[1;33m.\u001b[0m\u001b[0mb\u001b[0m\u001b[1;33m)\u001b[0m\u001b[1;33m\u001b[0m\u001b[1;33m\u001b[0m\u001b[0m\n\u001b[0;32m      4\u001b[0m \u001b[0mprint\u001b[0m\u001b[1;33m(\u001b[0m\u001b[0mobj\u001b[0m\u001b[1;33m.\u001b[0m\u001b[0mdisplay\u001b[0m\u001b[1;33m(\u001b[0m\u001b[1;33m)\u001b[0m\u001b[1;33m)\u001b[0m\u001b[1;33m\u001b[0m\u001b[1;33m\u001b[0m\u001b[0m\n\u001b[1;32m----> 5\u001b[1;33m \u001b[0mprint\u001b[0m\u001b[1;33m(\u001b[0m\u001b[0mobj\u001b[0m\u001b[1;33m.\u001b[0m\u001b[0mshow\u001b[0m\u001b[1;33m(\u001b[0m\u001b[1;33m)\u001b[0m\u001b[1;33m)\u001b[0m\u001b[1;33m\u001b[0m\u001b[1;33m\u001b[0m\u001b[0m\n\u001b[0m\u001b[0;32m      6\u001b[0m \u001b[0mprint\u001b[0m\u001b[1;33m(\u001b[0m\u001b[0mobj\u001b[0m\u001b[1;33m.\u001b[0m\u001b[0mc\u001b[0m\u001b[1;33m)\u001b[0m\u001b[1;33m\u001b[0m\u001b[1;33m\u001b[0m\u001b[0m\n\u001b[0;32m      7\u001b[0m \u001b[0mprint\u001b[0m\u001b[1;33m(\u001b[0m\u001b[0mobj\u001b[0m\u001b[1;33m.\u001b[0m\u001b[0md\u001b[0m\u001b[1;33m)\u001b[0m\u001b[1;33m\u001b[0m\u001b[1;33m\u001b[0m\u001b[0m\n",
      "\u001b[1;31mAttributeError\u001b[0m: type object 'ClassA' has no attribute 'show'"
     ]
    }
   ],
   "source": [
    "obj=ClassA #ClassA having 2 arguments -a,b\n",
    "print(obj.a)\n",
    "print(obj.b)\n",
    "print(obj.display())\n",
    "print(obj.show())\n",
    "print(obj.c)\n",
    "print(obj.d)"
   ]
  },
  {
   "cell_type": "code",
   "execution_count": 68,
   "metadata": {
    "scrolled": true
   },
   "outputs": [
    {
     "name": "stdout",
     "output_type": "stream",
     "text": [
      "10\n",
      "40\n",
      "23\n",
      "54\n",
      "iam from class B\n",
      "iam from class A\n"
     ]
    }
   ],
   "source": [
    "obj=ClassB #ClassB having 4 arguments -a,b,c,d\n",
    "print(obj.a)\n",
    "print(obj.b)\n",
    "print(obj.c)\n",
    "print(obj.d)\n",
    "obj.show()\n",
    "obj.display()"
   ]
  },
  {
   "cell_type": "code",
   "execution_count": null,
   "metadata": {},
   "outputs": [],
   "source": []
  },
  {
   "cell_type": "code",
   "execution_count": 69,
   "metadata": {},
   "outputs": [],
   "source": [
    "class ClassA():#ClassA having 2 arguments -a,b\n",
    "    a,b=10,40\n",
    "    def display():\n",
    "        print(\"iam from class A\")\n",
    "    def add1(a,b):\n",
    "        return a+b\n",
    "class ClassB(ClassA):#ClassB having 4 arguments -a,b,c,d\n",
    "    c,d=23,54\n",
    "    def show():\n",
    "        print(\"iam from class B\")\n",
    "    def add(a,b,c):\n",
    "        return a+b+c"
   ]
  },
  {
   "cell_type": "code",
   "execution_count": 87,
   "metadata": {},
   "outputs": [
    {
     "name": "stdout",
     "output_type": "stream",
     "text": [
      "16\n",
      "iam from class B\n"
     ]
    },
    {
     "ename": "AttributeError",
     "evalue": "type object 'ClassB' has no attribute 'add1'",
     "output_type": "error",
     "traceback": [
      "\u001b[1;31m---------------------------------------------------------------------------\u001b[0m",
      "\u001b[1;31mAttributeError\u001b[0m                            Traceback (most recent call last)",
      "\u001b[1;32m<ipython-input-87-899daa780093>\u001b[0m in \u001b[0;36m<module>\u001b[1;34m\u001b[0m\n\u001b[0;32m      2\u001b[0m \u001b[0mprint\u001b[0m\u001b[1;33m(\u001b[0m\u001b[0mobj\u001b[0m\u001b[1;33m.\u001b[0m\u001b[0madd\u001b[0m\u001b[1;33m(\u001b[0m\u001b[1;36m2\u001b[0m\u001b[1;33m,\u001b[0m\u001b[1;36m5\u001b[0m\u001b[1;33m,\u001b[0m\u001b[1;36m9\u001b[0m\u001b[1;33m)\u001b[0m\u001b[1;33m)\u001b[0m\u001b[1;33m\u001b[0m\u001b[1;33m\u001b[0m\u001b[0m\n\u001b[0;32m      3\u001b[0m \u001b[0mobj\u001b[0m\u001b[1;33m.\u001b[0m\u001b[0mshow\u001b[0m\u001b[1;33m(\u001b[0m\u001b[1;33m)\u001b[0m\u001b[1;33m\u001b[0m\u001b[1;33m\u001b[0m\u001b[0m\n\u001b[1;32m----> 4\u001b[1;33m \u001b[0mobj\u001b[0m\u001b[1;33m.\u001b[0m\u001b[0madd1\u001b[0m\u001b[1;33m(\u001b[0m\u001b[1;36m2\u001b[0m\u001b[1;33m,\u001b[0m\u001b[1;36m5\u001b[0m\u001b[1;33m)\u001b[0m\u001b[1;33m\u001b[0m\u001b[1;33m\u001b[0m\u001b[0m\n\u001b[0m",
      "\u001b[1;31mAttributeError\u001b[0m: type object 'ClassB' has no attribute 'add1'"
     ]
    }
   ],
   "source": [
    "obj=ClassB\n",
    "print(obj.add(2,5,9))\n",
    "obj.show()\n",
    "obj.add1(2,5)"
   ]
  },
  {
   "cell_type": "code",
   "execution_count": null,
   "metadata": {},
   "outputs": [],
   "source": []
  },
  {
   "cell_type": "code",
   "execution_count": 80,
   "metadata": {},
   "outputs": [
    {
     "name": "stdout",
     "output_type": "stream",
     "text": [
      "7\n",
      "5\n",
      "6\n",
      "iam from class a\n"
     ]
    }
   ],
   "source": [
    "class A():\n",
    "    def __init__(self,a,b):\n",
    "        self.a=a\n",
    "        self.b=b\n",
    "    def display(self):\n",
    "        print(\"iam from class a\")\n",
    "class B(A):\n",
    "    def __init__(self,a,b,c):\n",
    "        self.c=c\n",
    "        super().__init__(a,b)\n",
    "    def show(self):\n",
    "        print(self.c)\n",
    "        print(self.a)\n",
    "        print(self.b)\n",
    "        \n",
    "        \n",
    "obj=B(5,6,7)\n",
    "obj.show()\n",
    "obj.display()"
   ]
  },
  {
   "cell_type": "code",
   "execution_count": null,
   "metadata": {},
   "outputs": [],
   "source": []
  },
  {
   "cell_type": "code",
   "execution_count": null,
   "metadata": {},
   "outputs": [],
   "source": [
    "#multilevel inheritance"
   ]
  },
  {
   "cell_type": "code",
   "execution_count": 88,
   "metadata": {},
   "outputs": [
    {
     "name": "stdout",
     "output_type": "stream",
     "text": [
      "iam from class a\n",
      "iam from class b\n",
      "iam from class c\n"
     ]
    }
   ],
   "source": [
    "class A:\n",
    "    def classA():\n",
    "        print(\"iam from class a\")\n",
    "class B(A):\n",
    "    def classB():\n",
    "        print(\"iam from class b\")\n",
    "class C(B):\n",
    "    def classC():\n",
    "        print(\"iam from class c\")\n",
    "        \n",
    "obj=C\n",
    "obj.classA()\n",
    "obj.classB()\n",
    "obj.classC()"
   ]
  },
  {
   "cell_type": "code",
   "execution_count": null,
   "metadata": {},
   "outputs": [],
   "source": []
  },
  {
   "cell_type": "code",
   "execution_count": null,
   "metadata": {},
   "outputs": [],
   "source": [
    "#multiple inheritance"
   ]
  },
  {
   "cell_type": "code",
   "execution_count": 89,
   "metadata": {},
   "outputs": [
    {
     "name": "stdout",
     "output_type": "stream",
     "text": [
      "iam from class a\n",
      "iam from class b\n",
      "iam from class c\n"
     ]
    }
   ],
   "source": [
    "class A:\n",
    "    def classA():\n",
    "        print(\"iam from class a\")\n",
    "class B:\n",
    "    def classB():\n",
    "        print(\"iam from class b\")\n",
    "class C(A,B):\n",
    "    def classC():\n",
    "        print(\"iam from class c\")\n",
    "        \n",
    "obj=C\n",
    "obj.classA()\n",
    "obj.classB()\n",
    "obj.classC()"
   ]
  },
  {
   "cell_type": "code",
   "execution_count": 29,
   "metadata": {},
   "outputs": [
    {
     "name": "stdout",
     "output_type": "stream",
     "text": [
      "iam from class a\n",
      "iam from class b\n",
      "iam from class c\n"
     ]
    }
   ],
   "source": [
    "#hyrarical inheritance:\n",
    "class A:\n",
    "    def classA():\n",
    "        print(\"iam from class a\")\n",
    "class B(A):\n",
    "    def classB():\n",
    "        print(\"iam from class b\")\n",
    "class C(A):\n",
    "    def classC():\n",
    "        print(\"iam from class c\")\n",
    "        \n",
    "obj=C\n",
    "obj1=B\n",
    "obj.classA()\n",
    "obj1.classB()\n",
    "obj.classC()"
   ]
  },
  {
   "cell_type": "code",
   "execution_count": null,
   "metadata": {},
   "outputs": [],
   "source": [
    "#hybrid inheritance:"
   ]
  },
  {
   "cell_type": "code",
   "execution_count": 24,
   "metadata": {},
   "outputs": [
    {
     "name": "stdout",
     "output_type": "stream",
     "text": [
      "iam from class a\n",
      "iam from class b\n",
      "iam from class c\n",
      "iam from class d\n",
      "iam from class e\n"
     ]
    }
   ],
   "source": [
    "class A:\n",
    "    def classA():\n",
    "        print(\"iam from class a\")\n",
    "class B:\n",
    "    def classB():\n",
    "        print(\"iam from class b\")\n",
    "class C(A,B):\n",
    "    def classC():\n",
    "        print(\"iam from class c\")\n",
    "class D(C):\n",
    "    def classD():\n",
    "        print(\"iam from class d\") \n",
    "class E(D):\n",
    "    def classE():\n",
    "        print(\"iam from class e\") \n",
    "        \n",
    "obj=E\n",
    "obj.classA()\n",
    "obj.classB()\n",
    "obj.classC()\n",
    "obj.classD()\n",
    "obj.classE()"
   ]
  },
  {
   "cell_type": "code",
   "execution_count": null,
   "metadata": {},
   "outputs": [],
   "source": []
  },
  {
   "cell_type": "code",
   "execution_count": null,
   "metadata": {},
   "outputs": [],
   "source": []
  },
  {
   "cell_type": "markdown",
   "metadata": {},
   "source": [
    "#### packages and modules\n",
    "##### modules \n",
    "- we will call .py files as a module\n",
    "- modules is a group of functions and classes\n",
    "##### packages\n",
    "- it is a folder\n",
    "- i can group of no modules in packages\n",
    "- it is collection of modules\n",
    "-Package(Folder)"
   ]
  },
  {
   "cell_type": "code",
   "execution_count": 46,
   "metadata": {},
   "outputs": [],
   "source": [
    "#myModule.py\n",
    "class Calsi143:\n",
    "    def add(n1,n2):\n",
    "        return n1+n2\n",
    "    def sub(n1,n2):\n",
    "        return n1-n2\n",
    "    def mul(n1,n2):\n",
    "        return n1*n2\n",
    "    def mod(n1,n2):\n",
    "        return n1%n2\n",
    "class Math143:\n",
    "    def power(b,e):\n",
    "        return b**e\n",
    "    def isEven(val):\n",
    "        if val%2==0:\n",
    "            return True\n",
    "        return False\n",
    "def isOdd(val):\n",
    "    if val%2!=0:\n",
    "        return True\n",
    "    return False\n",
    "class Clasi1:\n",
    "    def __init__(self,v1,v2):\n",
    "        self.v1=v1\n",
    "        self.v2=v2\n",
    "    def __add__(self):\n",
    "        return self.v1+self.v2\n",
    "    def __mul__(self):\n",
    "        return self.v1*self.v2\n",
    "        "
   ]
  },
  {
   "cell_type": "markdown",
   "metadata": {},
   "source": [
    "##### for accessing modules we are using import keyword\n",
    "##### for accessing modules we have few different ways...those are\n",
    "- import myModule\n",
    "- from myModule import Calsi\n",
    "- from myModule.Calsi import add\n",
    "- from myModule.Calsi import *"
   ]
  },
  {
   "cell_type": "code",
   "execution_count": null,
   "metadata": {},
   "outputs": [],
   "source": [
    "#output.py\n",
    "import myModule\n",
    "from myModule import Calsi1\n",
    "obj=myModule.Calsi143\n",
    "print(obj.add(5,5))\n",
    "\n",
    "obj1=myModule.Calsi1(5,7)\n",
    "print(obj1.__add__())\n",
    "print(obj1.__mul__())"
   ]
  },
  {
   "cell_type": "code",
   "execution_count": null,
   "metadata": {},
   "outputs": [],
   "source": [
    "#task 1:\n",
    "- you have to create a class i.e Usweinfo(\"pavani\")\n",
    "- set Addrs(empid,mailid,cmpName)\n",
    "-show Details()\n",
    "        - you have to print name,empid,mailid and cmpname of thw user"
   ]
  },
  {
   "cell_type": "code",
   "execution_count": 49,
   "metadata": {},
   "outputs": [],
   "source": [
    "class Userinfo:\n",
    "    def __init(self,name,empid,mailid,cmpname):\n",
    "        self.name=name\n",
    "        self.empid=empid\n",
    "        self.mailid=mailid\n",
    "        self.cmpname=cmpname\n",
    "        def showdetails(self):\n",
    "            print(self.name)\n",
    "            print(self.empid)\n",
    "            print(self.mailid)\n",
    "            print(self.cmpname)"
   ]
  },
  {
   "cell_type": "code",
   "execution_count": 50,
   "metadata": {},
   "outputs": [
    {
     "ename": "AttributeError",
     "evalue": "type object 'Userinfo' has no attribute 'showdetails'",
     "output_type": "error",
     "traceback": [
      "\u001b[1;31m---------------------------------------------------------------------------\u001b[0m",
      "\u001b[1;31mAttributeError\u001b[0m                            Traceback (most recent call last)",
      "\u001b[1;32m<ipython-input-50-46f6d2df09ff>\u001b[0m in \u001b[0;36m<module>\u001b[1;34m\u001b[0m\n\u001b[0;32m      1\u001b[0m \u001b[0mobj\u001b[0m\u001b[1;33m=\u001b[0m\u001b[0mUserinfo\u001b[0m\u001b[1;33m\u001b[0m\u001b[1;33m\u001b[0m\u001b[0m\n\u001b[1;32m----> 2\u001b[1;33m \u001b[0mobj\u001b[0m\u001b[1;33m.\u001b[0m\u001b[0mshowdetails\u001b[0m\u001b[1;33m(\u001b[0m\u001b[1;34m\"pavani\"\u001b[0m\u001b[1;33m,\u001b[0m\u001b[1;36m546546\u001b[0m\u001b[1;33m,\u001b[0m\u001b[1;34m\"durga.k@apssdc.in\"\u001b[0m\u001b[1;33m,\u001b[0m\u001b[1;34m\"apssdc\"\u001b[0m\u001b[1;33m)\u001b[0m\u001b[1;33m\u001b[0m\u001b[1;33m\u001b[0m\u001b[0m\n\u001b[0m",
      "\u001b[1;31mAttributeError\u001b[0m: type object 'Userinfo' has no attribute 'showdetails'"
     ]
    }
   ],
   "source": [
    "obj=Userinfo\n",
    "obj.showdetails(\"pavani\",546546,\"durga.k@apssdc.in\",\"apssdc\")"
   ]
  }
 ],
 "metadata": {
  "kernelspec": {
   "display_name": "Python 3",
   "language": "python",
   "name": "python3"
  },
  "language_info": {
   "codemirror_mode": {
    "name": "ipython",
    "version": 3
   },
   "file_extension": ".py",
   "mimetype": "text/x-python",
   "name": "python",
   "nbconvert_exporter": "python",
   "pygments_lexer": "ipython3",
   "version": "3.7.3"
  }
 },
 "nbformat": 4,
 "nbformat_minor": 4
}
