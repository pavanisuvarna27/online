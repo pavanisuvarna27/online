{
 "cells": [
  {
   "cell_type": "markdown",
   "metadata": {},
   "source": [
    "### day objectives\n",
    "   * installation\n",
    "   * python introduction\n",
    "   * jupyter notebook\n",
    "   * markdown format"
   ]
  },
  {
   "cell_type": "markdown",
   "metadata": {},
   "source": [
    "# python\n",
    "## python\n",
    "### python\n",
    "#### python\n",
    "##### python\n",
    "###### python"
   ]
  },
  {
   "cell_type": "markdown",
   "metadata": {},
   "source": [
    "### dcghsgvjhfd\n",
    "- mhvjkk\n",
    "    - lkjlithjtli\n",
    "- khjkifjlji"
   ]
  },
  {
   "cell_type": "markdown",
   "metadata": {},
   "source": [
    "# djskvhkj\n",
    " - 1.python\n",
    " - 2.hdjhfk\n",
    " - 3.jvjhjkvh"
   ]
  },
  {
   "cell_type": "markdown",
   "metadata": {},
   "source": [
    "### python comments:\n",
    "##### Comment is not a part of the program, but it enhances the interactivity of the program and makes the program readable.\n",
    "##### Python supports two types of comments:\n",
    "- 1) Single Line Comment:\n",
    "  - In case user wants to specify a single line comment, then comment must start with #\n",
    "- 2) Multi Line Comment:\n",
    "  - Multi lined comment can be given inside triple quotes."
   ]
  },
  {
   "cell_type": "code",
   "execution_count": 5,
   "metadata": {},
   "outputs": [
    {
     "name": "stdout",
     "output_type": "stream",
     "text": [
      "hello\n"
     ]
    }
   ],
   "source": [
    "#single line comment\n",
    "\"\"\"\n",
    "multi\n",
    "line\n",
    "comments\n",
    "\"\"\"\n",
    "print(\"hello\")"
   ]
  },
  {
   "cell_type": "code",
   "execution_count": 49,
   "metadata": {},
   "outputs": [
    {
     "name": "stdout",
     "output_type": "stream",
     "text": [
      "python's workshop\n"
     ]
    }
   ],
   "source": [
    "print(\"python's workshop\")# in python single quotes and double treated as same"
   ]
  },
  {
   "cell_type": "markdown",
   "metadata": {},
   "source": [
    "#### Python Basics\n",
    "1. Variables\n",
    "2. Operators\n",
    "3. Keywords"
   ]
  },
  {
   "cell_type": "markdown",
   "metadata": {},
   "source": [
    "# variables:\n",
    "variablename=value"
   ]
  },
  {
   "cell_type": "markdown",
   "metadata": {},
   "source": [
    "## Python Variables\n",
    "#### Variable is a name which is used to refer memory location. Variable also known as identifier and used to hold value.\n",
    "\n",
    "- In Python, we don't need to specify the type of variable because Python is a type infer language and smart enough to get variable type.\n",
    "\n",
    "- Variable names can be a group of both letters and digits, but they have to begin with a letter or an underscore.\n",
    "\n",
    "- The equal (=) operator is used to assign value to a variable.\n",
    "\n",
    "- Keywords cannot be used as variable names."
   ]
  },
  {
   "cell_type": "markdown",
   "metadata": {},
   "source": [
    "#### Keywords:\n",
    "* keywords are the reserved words in Python.\n",
    "* We cannot use a keyword as a variable name, function name or any other identifier. \n",
    "* They are used to define the syntax and structure of the Python language. \n",
    "* In Python, keywords are case sensitive"
   ]
  },
  {
   "cell_type": "code",
   "execution_count": 15,
   "metadata": {},
   "outputs": [
    {
     "data": {
      "text/plain": [
       "2"
      ]
     },
     "execution_count": 15,
     "metadata": {},
     "output_type": "execute_result"
    }
   ],
   "source": [
    "_=2\n",
    "_"
   ]
  },
  {
   "cell_type": "code",
   "execution_count": 48,
   "metadata": {
    "scrolled": true
   },
   "outputs": [
    {
     "name": "stdout",
     "output_type": "stream",
     "text": [
      "['False', 'None', 'True', 'and', 'as', 'assert', 'async', 'await', 'break', 'class', 'continue', 'def', 'del', 'elif', 'else', 'except', 'finally', 'for', 'from', 'global', 'if', 'import', 'in', 'is', 'lambda', 'nonlocal', 'not', 'or', 'pass', 'raise', 'return', 'try', 'while', 'with', 'yield'] "
     ]
    }
   ],
   "source": [
    "import keyword\n",
    "print(keyword.kwlist,end=\" \") "
   ]
  },
  {
   "cell_type": "code",
   "execution_count": null,
   "metadata": {},
   "outputs": [],
   "source": []
  },
  {
   "cell_type": "markdown",
   "metadata": {},
   "source": [
    "#### datatype:\n",
    "* This means it gives us information about : Type of the data (integer, float or string)"
   ]
  },
  {
   "cell_type": "markdown",
   "metadata": {},
   "source": [
    "#### python datatypes:\n",
    "1. int\n",
    "2. float\n",
    "3. string  (str)"
   ]
  },
  {
   "cell_type": "code",
   "execution_count": 8,
   "metadata": {},
   "outputs": [
    {
     "name": "stdout",
     "output_type": "stream",
     "text": [
      "python\n",
      "<class 'str'>\n"
     ]
    }
   ],
   "source": [
    "n=\"python\"\n",
    "print(n)\n",
    "print(type(n))"
   ]
  },
  {
   "cell_type": "code",
   "execution_count": 9,
   "metadata": {},
   "outputs": [
    {
     "name": "stdout",
     "output_type": "stream",
     "text": [
      "python 56.9 90\n",
      "<class 'str'>\n",
      "<class 'float'>\n",
      "<class 'int'>\n"
     ]
    }
   ],
   "source": [
    "a='python'\n",
    "b=56.9\n",
    "c=90\n",
    "print(a,b,c)\n",
    "print(type(a))\n",
    "print(type(b))\n",
    "print(type(c))"
   ]
  },
  {
   "cell_type": "code",
   "execution_count": 10,
   "metadata": {},
   "outputs": [
    {
     "ename": "SyntaxError",
     "evalue": "can't assign to literal (<ipython-input-10-4b276a8129e4>, line 1)",
     "output_type": "error",
     "traceback": [
      "\u001b[1;36m  File \u001b[1;32m\"<ipython-input-10-4b276a8129e4>\"\u001b[1;36m, line \u001b[1;32m1\u001b[0m\n\u001b[1;33m    a=10,b=\"jherhj\",c=78.90\u001b[0m\n\u001b[1;37m     ^\u001b[0m\n\u001b[1;31mSyntaxError\u001b[0m\u001b[1;31m:\u001b[0m can't assign to literal\n"
     ]
    }
   ],
   "source": [
    "a=10,b=\"jherhj\",c=78.90\n",
    "print(a,b,c)"
   ]
  },
  {
   "cell_type": "code",
   "execution_count": 1,
   "metadata": {},
   "outputs": [
    {
     "name": "stdout",
     "output_type": "stream",
     "text": [
      "10 hgukchk 90.78\n"
     ]
    }
   ],
   "source": [
    "a,b,c=10,\"hgukchk\",90.78\n",
    "print(a,b,c)"
   ]
  },
  {
   "cell_type": "code",
   "execution_count": 2,
   "metadata": {},
   "outputs": [
    {
     "name": "stdout",
     "output_type": "stream",
     "text": [
      "10\n",
      "10\n",
      "10\n"
     ]
    }
   ],
   "source": [
    "a=b=c=10\n",
    "print(a)\n",
    "print(b)\n",
    "print(c)"
   ]
  },
  {
   "cell_type": "code",
   "execution_count": 3,
   "metadata": {},
   "outputs": [
    {
     "name": "stdout",
     "output_type": "stream",
     "text": [
      "11\n"
     ]
    }
   ],
   "source": [
    "a=a+1\n",
    "print(a)"
   ]
  },
  {
   "cell_type": "code",
   "execution_count": 4,
   "metadata": {},
   "outputs": [
    {
     "ename": "TypeError",
     "evalue": "can only concatenate str (not \"int\") to str",
     "output_type": "error",
     "traceback": [
      "\u001b[1;31m---------------------------------------------------------------------------\u001b[0m",
      "\u001b[1;31mTypeError\u001b[0m                                 Traceback (most recent call last)",
      "\u001b[1;32m<ipython-input-4-a59ccdd8cf56>\u001b[0m in \u001b[0;36m<module>\u001b[1;34m\u001b[0m\n\u001b[0;32m      1\u001b[0m \u001b[0mn\u001b[0m\u001b[1;33m=\u001b[0m\u001b[1;34m\"67\"\u001b[0m\u001b[1;33m\u001b[0m\u001b[1;33m\u001b[0m\u001b[0m\n\u001b[0;32m      2\u001b[0m \u001b[0mtype\u001b[0m\u001b[1;33m(\u001b[0m\u001b[0mn\u001b[0m\u001b[1;33m)\u001b[0m\u001b[1;33m\u001b[0m\u001b[1;33m\u001b[0m\u001b[0m\n\u001b[1;32m----> 3\u001b[1;33m \u001b[0mprint\u001b[0m\u001b[1;33m(\u001b[0m\u001b[0mn\u001b[0m\u001b[1;33m+\u001b[0m\u001b[1;36m1\u001b[0m\u001b[1;33m)\u001b[0m\u001b[1;33m\u001b[0m\u001b[1;33m\u001b[0m\u001b[0m\n\u001b[0m",
      "\u001b[1;31mTypeError\u001b[0m: can only concatenate str (not \"int\") to str"
     ]
    }
   ],
   "source": [
    "n=\"67\"\n",
    "type(n)\n",
    "print(n+1)"
   ]
  },
  {
   "cell_type": "code",
   "execution_count": null,
   "metadata": {},
   "outputs": [],
   "source": []
  },
  {
   "cell_type": "code",
   "execution_count": 6,
   "metadata": {},
   "outputs": [
    {
     "name": "stdout",
     "output_type": "stream",
     "text": [
      "<class 'str'>\n",
      "<class 'str'>\n"
     ]
    }
   ],
   "source": [
    "#type conversions\n",
    "n=\"67\"\n",
    "s=\"shgdjh\"\n",
    "print(type(n))\n",
    "print(type(s))"
   ]
  },
  {
   "cell_type": "code",
   "execution_count": 7,
   "metadata": {},
   "outputs": [
    {
     "name": "stdout",
     "output_type": "stream",
     "text": [
      "67.0\n",
      "<class 'float'>\n"
     ]
    }
   ],
   "source": [
    "#str to int\n",
    "a=float(n)\n",
    "print(a)\n",
    "print(type(a))"
   ]
  },
  {
   "cell_type": "markdown",
   "metadata": {},
   "source": [
    "int- int(variablename)\n",
    "float - float(variablename)\n",
    "str- str(variablename)"
   ]
  },
  {
   "cell_type": "code",
   "execution_count": 16,
   "metadata": {},
   "outputs": [
    {
     "name": "stdout",
     "output_type": "stream",
     "text": [
      "90.56\n",
      "<class 'str'>\n"
     ]
    }
   ],
   "source": [
    "#float to string\n",
    "f=90.56\n",
    "f1=str(f)\n",
    "print(f1)\n",
    "print(type(f1))"
   ]
  },
  {
   "cell_type": "code",
   "execution_count": 17,
   "metadata": {},
   "outputs": [
    {
     "name": "stdout",
     "output_type": "stream",
     "text": [
      "90\n",
      "<class 'int'>\n"
     ]
    }
   ],
   "source": [
    "#float to int\n",
    "f=90.56\n",
    "f1=int(f)\n",
    "print(f1)\n",
    "print(type(f1))"
   ]
  },
  {
   "cell_type": "code",
   "execution_count": 18,
   "metadata": {},
   "outputs": [
    {
     "name": "stdout",
     "output_type": "stream",
     "text": [
      "1010\n"
     ]
    }
   ],
   "source": [
    "n = \"10\"\n",
    "type(n)\n",
    "n1 = int(n)\n",
    "#print(n,n1)\n",
    "print(n+str(n1))"
   ]
  },
  {
   "cell_type": "code",
   "execution_count": null,
   "metadata": {},
   "outputs": [],
   "source": []
  },
  {
   "cell_type": "code",
   "execution_count": 9,
   "metadata": {},
   "outputs": [
    {
     "name": "stdout",
     "output_type": "stream",
     "text": [
      "enter a string:apssdc\n",
      "<class 'str'>\n"
     ]
    }
   ],
   "source": [
    "#user input\n",
    "#string user input\n",
    "s=input(\"enter a string:\")\n",
    "print(type(s))"
   ]
  },
  {
   "cell_type": "code",
   "execution_count": 8,
   "metadata": {},
   "outputs": [
    {
     "name": "stdout",
     "output_type": "stream",
     "text": [
      "enter a number:24\n",
      "<class 'int'>\n"
     ]
    }
   ],
   "source": [
    "# integer user input\n",
    "n=int(input(\"enter a number:\"))\n",
    "print(type(n))"
   ]
  },
  {
   "cell_type": "code",
   "execution_count": 10,
   "metadata": {
    "scrolled": true
   },
   "outputs": [
    {
     "name": "stdout",
     "output_type": "stream",
     "text": [
      "enter a number:34.90\n",
      "<class 'float'>\n"
     ]
    }
   ],
   "source": [
    "# float user input\n",
    "n=float(input(\"enter a number:\"))\n",
    "print(type(n))"
   ]
  },
  {
   "cell_type": "markdown",
   "metadata": {},
   "source": [
    "#### userinputs\n",
    "* str userinput   - input(\"enter\")\n",
    "(or)\n",
    "  str userinput   - str(input(\"enter\"))\n",
    "* int userinput   - int(input(\"enter\"))\n",
    "* float userinput - float(input(\"enter\"))"
   ]
  },
  {
   "cell_type": "markdown",
   "metadata": {},
   "source": [
    "#### type conversion\n",
    "* int- int(variablename)\n",
    "* float - float(variablename)\n",
    "* str- str(variablename)"
   ]
  },
  {
   "cell_type": "code",
   "execution_count": 12,
   "metadata": {},
   "outputs": [
    {
     "name": "stdout",
     "output_type": "stream",
     "text": [
      "enter a name:python\n",
      "hello python\n",
      "hellopython\n",
      "hello python\n"
     ]
    }
   ],
   "source": [
    "s=input(\"enter a name:\")\n",
    "print(\"hello\",s)\n",
    "print(\"hello\"+s)\n",
    "print(\"hello \"+s)"
   ]
  },
  {
   "cell_type": "markdown",
   "metadata": {},
   "source": [
    "#### task:\n",
    "\n",
    "welcome to clgname urname"
   ]
  },
  {
   "cell_type": "code",
   "execution_count": 13,
   "metadata": {},
   "outputs": [
    {
     "name": "stdout",
     "output_type": "stream",
     "text": [
      "enter a name:python\n",
      "welcome to python\n"
     ]
    }
   ],
   "source": [
    "s=input(\"enter a name:\")\n",
    "print(\"welcome to\",s)"
   ]
  },
  {
   "cell_type": "code",
   "execution_count": null,
   "metadata": {},
   "outputs": [],
   "source": []
  },
  {
   "cell_type": "code",
   "execution_count": null,
   "metadata": {},
   "outputs": [],
   "source": [
    "#operators:\n",
    "1.arithmatic operators(+,-,*,/,%,//-floor,**-power)\n",
    "2.assignment operators(==,+=,-=,/=,*=,%=,//=,**=)\n",
    "3.logical operators(and,or,not)\n",
    "4.comparision operators(==,!=,<,>,<=,>=)\n",
    "5.membership operators(in,not in)\n",
    "6.identity operators(is,is not)\n",
    "7.bitwise operators(&,|,^,<<,>>)"
   ]
  },
  {
   "cell_type": "code",
   "execution_count": 16,
   "metadata": {},
   "outputs": [
    {
     "name": "stdout",
     "output_type": "stream",
     "text": [
      "enter a :23\n",
      "enter b :56\n",
      "79\n",
      "-33\n",
      "1288\n",
      "0.4107142857142857\n",
      "23\n",
      "0\n",
      "18061708005752857061620870906539210750802836284237842525970767008798325863361\n"
     ]
    }
   ],
   "source": [
    "# 1.arithmatic operators(+,-,*,/,%,//-floor,**-power)\n",
    "a=int(input(\"enter a :\"))\n",
    "b=int(input(\"enter b :\"))\n",
    "print(a+b)\n",
    "print(a-b)\n",
    "print(a*b)\n",
    "print(a/b)# normal division with floating values as output\n",
    "print(a%b)\n",
    "print(a//b)# floor division or Integer division\n",
    "print(a**b)"
   ]
  },
  {
   "cell_type": "code",
   "execution_count": 33,
   "metadata": {
    "scrolled": true
   },
   "outputs": [
    {
     "name": "stdout",
     "output_type": "stream",
     "text": [
      "enter a :1\n",
      "enter b :3\n",
      "4\n",
      "1\n",
      "3\n",
      "1.0\n",
      "1.0\n",
      "0.0\n",
      "0.0\n"
     ]
    }
   ],
   "source": [
    "#### 2.assignment operators(=,+=,-=,/=,*=,%=,//=,**=)\n",
    "a=int(input(\"enter a :\"))\n",
    "b=int(input(\"enter b :\"))\n",
    "a+=b\n",
    "print(a)\n",
    "a-=b\n",
    "print(a)\n",
    "a*=b\n",
    "print(a)\n",
    "a/=b\n",
    "print(a)\n",
    "a%=b\n",
    "print(a)\n",
    "a//=b\n",
    "print(a)\n",
    "a**=b\n",
    "print(a)"
   ]
  },
  {
   "cell_type": "code",
   "execution_count": 36,
   "metadata": {},
   "outputs": [
    {
     "name": "stdout",
     "output_type": "stream",
     "text": [
      "False\n",
      "True\n",
      "True\n"
     ]
    }
   ],
   "source": [
    "# 3.logical operators(and,or,not)\n",
    "a=7\n",
    "print(a < 5 and  a < 10)\n",
    "print(a > 5 or a < 4)\n",
    "print(not(a < 5 and a < 10))"
   ]
  },
  {
   "cell_type": "code",
   "execution_count": 37,
   "metadata": {},
   "outputs": [
    {
     "name": "stdout",
     "output_type": "stream",
     "text": [
      "False\n",
      "True\n",
      "True\n",
      "False\n",
      "True\n",
      "False\n"
     ]
    }
   ],
   "source": [
    "# 4.comparision operators(==,!=,<,>,<=,>=)\n",
    "a=2\n",
    "b=5\n",
    "print(a==b)\n",
    "print(a!=b)\n",
    "print(a<b)\n",
    "print(a>b)\n",
    "print(a<=b)\n",
    "print(a>=b)"
   ]
  },
  {
   "cell_type": "code",
   "execution_count": 39,
   "metadata": {},
   "outputs": [
    {
     "name": "stdout",
     "output_type": "stream",
     "text": [
      "True\n",
      "False\n"
     ]
    }
   ],
   "source": [
    "# 5.membership operators(in,not in)\n",
    "a=\"python\"\n",
    "print('y' in a)\n",
    "print('o' not in a)"
   ]
  },
  {
   "cell_type": "code",
   "execution_count": 41,
   "metadata": {},
   "outputs": [
    {
     "name": "stdout",
     "output_type": "stream",
     "text": [
      "False\n",
      "True\n"
     ]
    }
   ],
   "source": [
    "# 6.identity operators(is,is not)\n",
    "a=25\n",
    "b=17\n",
    "print(a is b)\n",
    "print(a is not b)"
   ]
  },
  {
   "cell_type": "code",
   "execution_count": 52,
   "metadata": {},
   "outputs": [
    {
     "name": "stdout",
     "output_type": "stream",
     "text": [
      "2\n",
      "3\n",
      "1\n",
      "16\n",
      "0\n"
     ]
    }
   ],
   "source": [
    "# 7.bitwise operators(&,|,^,<<,>>)\n",
    "a=2 #0010\n",
    "b=3 #0011      #8421\n",
    "print(a & b) #0010\n",
    "print(a|b)   #0011\n",
    "print(a^b)   #0001(diffrent)\n",
    "#a=2 #0000 0010\n",
    "print(a<<b)  #0001 0000\n",
    "print(a>>b) #0000 0000"
   ]
  },
  {
   "cell_type": "code",
   "execution_count": null,
   "metadata": {},
   "outputs": [],
   "source": []
  }
 ],
 "metadata": {
  "kernelspec": {
   "display_name": "Python 3",
   "language": "python",
   "name": "python3"
  },
  "language_info": {
   "codemirror_mode": {
    "name": "ipython",
    "version": 3
   },
   "file_extension": ".py",
   "mimetype": "text/x-python",
   "name": "python",
   "nbconvert_exporter": "python",
   "pygments_lexer": "ipython3",
   "version": "3.7.3"
  }
 },
 "nbformat": 4,
 "nbformat_minor": 2
}
